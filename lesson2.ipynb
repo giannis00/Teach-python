{
 "cells": [
  {
   "cell_type": "markdown",
   "id": "5026ab3a-0d29-4cf2-ade7-8a49459bb3c9",
   "metadata": {},
   "source": [
    "**6. Time Converter (Minutes to Hours)\n",
    "Write a program that takes a number of minutes from the user and converts it to hours and minutes.**"
   ]
  },
  {
   "cell_type": "code",
   "execution_count": null,
   "id": "1f73182f-0824-46d6-9f07-fb90cf2ac4df",
   "metadata": {},
   "outputs": [],
   "source": [
    "\n",
    "\n",
    "\n",
    "\n",
    "\n",
    "\n",
    "\n",
    "\n",
    "\n",
    "\n",
    "\n",
    "\n",
    "\n",
    "\n",
    "\n",
    "\n",
    "\n",
    "\n",
    "\n",
    "\n",
    "\n",
    "\n",
    "\n"
   ]
  },
  {
   "cell_type": "code",
   "execution_count": 1,
   "id": "fdd6b46e-bc76-4c77-9c2d-ab3295345aa5",
   "metadata": {},
   "outputs": [
    {
     "name": "stdin",
     "output_type": "stream",
     "text": [
      "Enter the number of minutes:  60\n"
     ]
    },
    {
     "name": "stdout",
     "output_type": "stream",
     "text": [
      "60 minutes is equivalent to 1 hours and 0 minutes.\n"
     ]
    }
   ],
   "source": [
    "# Define a function to convert minutes to hours and minutes\n",
    "def convert_minutes(minutes):\n",
    "    hours = minutes // 60\n",
    "    remaining_minutes = minutes % 60\n",
    "    return hours, remaining_minutes\n",
    "\n",
    "# Ask the user for a number of minutes\n",
    "minutes_input = int(input(\"Enter the number of minutes: \"))\n",
    "\n",
    "# Call the function and print the result\n",
    "hours, minutes = convert_minutes(minutes_input)\n",
    "print(f\"{minutes_input} minutes is equivalent to {hours} hours and {minutes} minutes.\")\n"
   ]
  },
  {
   "cell_type": "markdown",
   "id": "356a71e2-2cd2-4203-8730-3a60a9eb70d8",
   "metadata": {},
   "source": [
    "**8. Average Calculator\n",
    "Write a program that takes three numbers as input and calculates their average using a function.**"
   ]
  },
  {
   "cell_type": "code",
   "execution_count": null,
   "id": "f18ade77-e44f-4e02-a0da-a042a0a9ebc7",
   "metadata": {},
   "outputs": [],
   "source": [
    "\n",
    "\n",
    "\n",
    "\n",
    "\n",
    "\n",
    "\n",
    "\n",
    "\n",
    "\n",
    "\n",
    "\n",
    "\n",
    "\n",
    "\n",
    "\n",
    "\n",
    "\n"
   ]
  },
  {
   "cell_type": "code",
   "execution_count": 2,
   "id": "805377c0-33bd-435b-81fc-9a5aadccdd50",
   "metadata": {},
   "outputs": [
    {
     "name": "stdin",
     "output_type": "stream",
     "text": [
      "Enter the first number:  10\n",
      "Enter the second number:  20\n",
      "Enter the third number:  40\n"
     ]
    },
    {
     "name": "stdout",
     "output_type": "stream",
     "text": [
      "The average of the three numbers is: 23.33\n"
     ]
    }
   ],
   "source": [
    "# Define a function to calculate the average of three numbers\n",
    "def calculate_average(num1, num2, num3):\n",
    "    return (num1 + num2 + num3) / 3\n",
    "\n",
    "# Ask the user for three numbers\n",
    "number1 = float(input(\"Enter the first number: \"))\n",
    "number2 = float(input(\"Enter the second number: \"))\n",
    "number3 = float(input(\"Enter the third number: \"))\n",
    "\n",
    "# Call the function and print the result\n",
    "average = calculate_average(number1, number2, number3)\n",
    "print(f\"The average of the three numbers is: {average:.2f}\")\n"
   ]
  },
  {
   "cell_type": "markdown",
   "id": "7f54c0fe-276d-4f20-80ef-85a3cc03a563",
   "metadata": {},
   "source": [
    "**Exercise: Even or Odd Checker\n",
    "Write a function that takes a number and returns True if the number is even and False if the number is odd.**"
   ]
  },
  {
   "cell_type": "code",
   "execution_count": null,
   "id": "5a59a9d2-1320-46e8-ba27-bf4090e88a5d",
   "metadata": {},
   "outputs": [],
   "source": [
    "\n",
    "\n",
    "\n",
    "\n",
    "\n",
    "\n",
    "\n",
    "\n",
    "\n",
    "\n",
    "\n"
   ]
  },
  {
   "cell_type": "code",
   "execution_count": 3,
   "id": "edcc55f3-5dc2-47b2-9d93-f49b3097f2e6",
   "metadata": {},
   "outputs": [
    {
     "name": "stdin",
     "output_type": "stream",
     "text": [
      "Enter a number:  11\n"
     ]
    },
    {
     "name": "stdout",
     "output_type": "stream",
     "text": [
      "11 is an odd number.\n"
     ]
    }
   ],
   "source": [
    "# Define a function to check if a number is even\n",
    "def is_even(number):\n",
    "    return number % 2 == 0\n",
    "\n",
    "# Ask the user for a number\n",
    "num = int(input(\"Enter a number: \"))\n",
    "\n",
    "# Call the function and store the result\n",
    "result = is_even(num)\n",
    "\n",
    "# Print whether the number is even or odd\n",
    "if result:\n",
    "    print(f\"{num} is an even number.\")\n",
    "else:\n",
    "    print(f\"{num} is an odd number.\")\n"
   ]
  },
  {
   "cell_type": "markdown",
   "id": "4ba3c197-9aa6-4c7a-be0c-a140a9b93c5e",
   "metadata": {},
   "source": [
    "**Rock, Paper, Scissors Game\n",
    "Create a simple \"Rock, Paper, Scissors\" game where the user plays against the computer. Use random numbers to simulate the computer's choice**"
   ]
  },
  {
   "cell_type": "code",
   "execution_count": 7,
   "id": "118eea0f-37e0-44cc-8f89-5a285d95d484",
   "metadata": {},
   "outputs": [
    {
     "name": "stdin",
     "output_type": "stream",
     "text": [
      "Enter rock, paper, or scissors:  rock\n"
     ]
    },
    {
     "name": "stdout",
     "output_type": "stream",
     "text": [
      "You chose rock, computer chose paper.\n",
      "Computer wins!\n"
     ]
    }
   ],
   "source": [
    "import random\n",
    "\n",
    "def get_computer_choice():\n",
    "    choices = [\"rock\", \"paper\", \"scissors\"]\n",
    "    return random.choice(choices)\n",
    "\n",
    "def decide_winner(user, computer):\n",
    "    if user == computer:\n",
    "        return \"It's a tie!\"\n",
    "    elif (user == \"rock\" and computer == \"scissors\") or \\\n",
    "         (user == \"scissors\" and computer == \"paper\") or \\\n",
    "         (user == \"paper\" and computer == \"rock\"):\n",
    "        return \"You win!\"\n",
    "    else:\n",
    "        return \"Computer wins!\"\n",
    "\n",
    "# Get user input\n",
    "user_choice = input(\"Enter rock, paper, or scissors: \").lower()\n",
    "computer_choice = get_computer_choice()\n",
    "\n",
    "# Print choices\n",
    "print(f\"You chose {user_choice}, computer chose {computer_choice}.\")\n",
    "\n",
    "# Print the result\n",
    "print(decide_winner(user_choice, computer_choice))\n"
   ]
  },
  {
   "cell_type": "code",
   "execution_count": null,
   "id": "09d3defc-b863-4331-969c-da1fa23234d9",
   "metadata": {},
   "outputs": [],
   "source": []
  }
 ],
 "metadata": {
  "kernelspec": {
   "display_name": "Python 3 (ipykernel)",
   "language": "python",
   "name": "python3"
  },
  "language_info": {
   "codemirror_mode": {
    "name": "ipython",
    "version": 3
   },
   "file_extension": ".py",
   "mimetype": "text/x-python",
   "name": "python",
   "nbconvert_exporter": "python",
   "pygments_lexer": "ipython3",
   "version": "3.9.7"
  }
 },
 "nbformat": 4,
 "nbformat_minor": 5
}
