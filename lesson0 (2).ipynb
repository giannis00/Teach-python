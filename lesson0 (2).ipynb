{
 "cells": [
  {
   "cell_type": "code",
   "execution_count": 1,
   "id": "9b76440e-9dc4-4993-9bd7-d810039b3916",
   "metadata": {},
   "outputs": [
    {
     "name": "stdout",
     "output_type": "stream",
     "text": [
      "The number is greater than 10!\n"
     ]
    }
   ],
   "source": [
    "# Given number\n",
    "number = 12\n",
    "\n",
    "# 1. Check if the number is greater than 10\n",
    "if number > 10:\n",
    "    # 2. If it is, print this message\n",
    "    print(\"The number is greater than 10!\")\n",
    "else:\n",
    "    # 3. If it's not, print this message\n",
    "    print(\"The number is 10 or less.\")\n"
   ]
  },
  {
   "cell_type": "code",
   "execution_count": 2,
   "id": "7d7ee28c-4872-4846-88c3-73f60049b3cb",
   "metadata": {},
   "outputs": [
    {
     "name": "stdout",
     "output_type": "stream",
     "text": [
      "The number is exactly 10!\n"
     ]
    }
   ],
   "source": [
    "# Given number\n",
    "number = 10\n",
    "\n",
    "# Check if the number is exactly 10\n",
    "if number == 10:\n",
    "    print(\"The number is exactly 10!\")\n",
    "else:\n",
    "    print(\"The number is not 10.\")\n"
   ]
  },
  {
   "cell_type": "code",
   "execution_count": 3,
   "id": "2fdcc417-2711-4019-84d9-8ad294fc592d",
   "metadata": {},
   "outputs": [
    {
     "name": "stdin",
     "output_type": "stream",
     "text": [
      "Enter a number:  10\n"
     ]
    },
    {
     "name": "stdout",
     "output_type": "stream",
     "text": [
      "The number is positive.\n"
     ]
    }
   ],
   "source": [
    "# Ask the user for a number\n",
    "number = int(input(\"Enter a number: \"))\n",
    "\n",
    "# Check if the number is positive, negative, or zero\n",
    "if number > 0:\n",
    "    print(\"The number is positive.\")\n",
    "elif number < 0:\n",
    "    print(\"The number is negative.\")\n",
    "else:\n",
    "    print(\"The number is zero.\")\n"
   ]
  },
  {
   "cell_type": "code",
   "execution_count": 4,
   "id": "33343843-482f-4010-8978-3c1f00e30d5e",
   "metadata": {},
   "outputs": [
    {
     "name": "stdin",
     "output_type": "stream",
     "text": [
      "Enter a number:  11\n"
     ]
    },
    {
     "name": "stdout",
     "output_type": "stream",
     "text": [
      "The number is odd.\n"
     ]
    }
   ],
   "source": [
    "# Ask the user for a number\n",
    "number = int(input(\"Enter a number: \"))\n",
    "\n",
    "# Check if the number is even or odd\n",
    "if number % 2 == 0:\n",
    "    print(\"The number is even.\")\n",
    "else:\n",
    "    print(\"The number is odd.\")\n"
   ]
  },
  {
   "cell_type": "code",
   "execution_count": 5,
   "id": "b14d83db-57ad-4be9-bb83-6c76b73b45d3",
   "metadata": {},
   "outputs": [
    {
     "name": "stdin",
     "output_type": "stream",
     "text": [
      "Enter your age:  19\n"
     ]
    },
    {
     "name": "stdout",
     "output_type": "stream",
     "text": [
      "You are eligible to vote.\n"
     ]
    }
   ],
   "source": [
    "# Ask the user for their age\n",
    "age = int(input(\"Enter your age: \"))\n",
    "\n",
    "# Check if the person is eligible to vote\n",
    "if age >= 18:\n",
    "    print(\"You are eligible to vote.\")\n",
    "else:\n",
    "    print(\"You are not eligible to vote.\")\n"
   ]
  },
  {
   "cell_type": "code",
   "execution_count": 6,
   "id": "d7c16956-6439-4cc2-9fb6-3ad854223602",
   "metadata": {},
   "outputs": [
    {
     "name": "stdin",
     "output_type": "stream",
     "text": [
      "Enter the grade (0-100):  88\n"
     ]
    },
    {
     "name": "stdout",
     "output_type": "stream",
     "text": [
      "B\n"
     ]
    }
   ],
   "source": [
    "# Ask the user for the grade as a percentage\n",
    "grade = int(input(\"Enter the grade (0-100): \"))\n",
    "\n",
    "# Classify the grade\n",
    "if grade >= 90:\n",
    "    print(\"A\")\n",
    "elif grade >= 80:\n",
    "    print(\"B\")\n",
    "elif grade >= 70:\n",
    "    print(\"C\")\n",
    "elif grade >= 60:\n",
    "    print(\"D\")\n",
    "else:\n",
    "    print(\"F\")\n"
   ]
  },
  {
   "cell_type": "code",
   "execution_count": null,
   "id": "426fd54d-4358-4126-821d-24fb47880a3c",
   "metadata": {},
   "outputs": [],
   "source": []
  },
  {
   "cell_type": "code",
   "execution_count": null,
   "id": "68a74d18-100d-4ed0-81da-813056844609",
   "metadata": {},
   "outputs": [],
   "source": []
  },
  {
   "cell_type": "code",
   "execution_count": null,
   "id": "b5d6fce9-ca71-419b-9570-20e14351b8c4",
   "metadata": {},
   "outputs": [],
   "source": []
  },
  {
   "cell_type": "code",
   "execution_count": null,
   "id": "895ab3f9-98ae-48a2-ae3b-aaed0f3756f2",
   "metadata": {},
   "outputs": [],
   "source": []
  },
  {
   "cell_type": "code",
   "execution_count": null,
   "id": "535498ad-9446-407e-8a59-8600d67243d8",
   "metadata": {},
   "outputs": [],
   "source": []
  },
  {
   "cell_type": "code",
   "execution_count": null,
   "id": "f0bd2d5c-dc7d-483c-b00f-cfdc03a05ebf",
   "metadata": {},
   "outputs": [],
   "source": []
  },
  {
   "cell_type": "code",
   "execution_count": 7,
   "id": "30cc232d-f93a-4f13-a86a-0bf9f10a114f",
   "metadata": {},
   "outputs": [
    {
     "name": "stdin",
     "output_type": "stream",
     "text": [
      "Enter the total purchase amount:  120\n"
     ]
    },
    {
     "name": "stdout",
     "output_type": "stream",
     "text": [
      "Original price: 120.0\n",
      "Final price after discount: 108.0\n"
     ]
    }
   ],
   "source": [
    "# Ask the user for the total purchase amount\n",
    "total_purchase = float(input(\"Enter the total purchase amount: \"))\n",
    "\n",
    "# Print the original price\n",
    "print(\"Original price:\", total_purchase)\n",
    "\n",
    "# Apply the discount based on the total purchase\n",
    "if total_purchase >= 100:\n",
    "    # Apply a 10% discount\n",
    "    final_price = total_purchase * 0.9  # 10% off\n",
    "else:\n",
    "    # Apply a 5% discount\n",
    "    final_price = total_purchase * 0.95  # 5% off\n",
    "\n",
    "# Print the final price after discount\n",
    "print(\"Final price after discount:\", final_price)\n"
   ]
  },
  {
   "cell_type": "code",
   "execution_count": null,
   "id": "61e8451d-0de2-4fad-9d36-322bc71d12bb",
   "metadata": {},
   "outputs": [],
   "source": []
  }
 ],
 "metadata": {
  "kernelspec": {
   "display_name": "Python 3 (ipykernel)",
   "language": "python",
   "name": "python3"
  },
  "language_info": {
   "codemirror_mode": {
    "name": "ipython",
    "version": 3
   },
   "file_extension": ".py",
   "mimetype": "text/x-python",
   "name": "python",
   "nbconvert_exporter": "python",
   "pygments_lexer": "ipython3",
   "version": "3.9.7"
  }
 },
 "nbformat": 4,
 "nbformat_minor": 5
}
