{
 "cells": [
  {
   "cell_type": "code",
   "execution_count": 1,
   "id": "2dbfca41-707a-4525-9ccb-c4320ce97a0a",
   "metadata": {},
   "outputs": [
    {
     "name": "stdout",
     "output_type": "stream",
     "text": [
      "This is iteration number 0\n",
      "This is iteration number 1\n",
      "This is iteration number 2\n",
      "This is iteration number 3\n",
      "This is iteration number 4\n"
     ]
    }
   ],
   "source": [
    "# A for loop is used to repeat a block of code a certain number of times.\n",
    "# Here we are using the range() function to loop through numbers from 0 to 4.\n",
    "\n",
    "for i in range(5):  # Loops from 0 to 4\n",
    "    print(\"This is iteration number\", i)  # Print the current value of i\n"
   ]
  },
  {
   "cell_type": "code",
   "execution_count": 2,
   "id": "5e33524e-71af-40bd-81de-62bdd6a710a7",
   "metadata": {},
   "outputs": [
    {
     "name": "stdout",
     "output_type": "stream",
     "text": [
      "While loop count: 0\n",
      "While loop count: 1\n",
      "While loop count: 2\n",
      "While loop count: 3\n",
      "While loop count: 4\n"
     ]
    }
   ],
   "source": [
    "# A while loop is used to repeat a block of code while a condition is true.\n",
    "# This loop will keep running as long as the variable 'count' is less than 5.\n",
    "\n",
    "count = 0  # Initialize count to 0\n",
    "while count < 5:  # Keep looping while count is less than 5\n",
    "    print(\"While loop count:\", count)  # Print the current value of count\n",
    "    count += 1  # Increment count by 1 after each iteration\n",
    "\n",
    "    "
   ]
  },
  {
   "cell_type": "code",
   "execution_count": 5,
   "id": "66d72d09-4b64-40fe-9d4e-44c72ff2f903",
   "metadata": {},
   "outputs": [
    {
     "name": "stdout",
     "output_type": "stream",
     "text": [
      "0\n",
      "1\n",
      "2\n",
      "3\n",
      "4\n"
     ]
    }
   ],
   "source": [
    "# Looping through numbers from 0 to 4\n",
    "for i in range(5):\n",
    "    print(i)\n"
   ]
  },
  {
   "cell_type": "code",
   "execution_count": 6,
   "id": "d076eba3-a95b-4dc6-93e7-324dd227a79d",
   "metadata": {},
   "outputs": [
    {
     "name": "stdout",
     "output_type": "stream",
     "text": [
      "red\n",
      "green\n",
      "blue\n"
     ]
    }
   ],
   "source": [
    "# Loop through a list of colors\n",
    "colors = [\"red\", \"green\", \"blue\"]\n",
    "for color in colors:\n",
    "    print(color)\n"
   ]
  },
  {
   "cell_type": "code",
   "execution_count": 3,
   "id": "4b9ac814-4dd8-42e6-b5f8-6fcc5d803d15",
   "metadata": {},
   "outputs": [
    {
     "name": "stdout",
     "output_type": "stream",
     "text": [
      "1 * 1 = 1\n",
      "1 * 2 = 2\n",
      "1 * 3 = 3\n",
      "\n",
      "2 * 1 = 2\n",
      "2 * 2 = 4\n",
      "2 * 3 = 6\n",
      "\n",
      "3 * 1 = 3\n",
      "3 * 2 = 6\n",
      "3 * 3 = 9\n",
      "\n"
     ]
    }
   ],
   "source": [
    "# This example prints a simple multiplication table (1 to 3).\n",
    "\n",
    "for i in range(1, 4):  # Outer loop for numbers 1 to 3\n",
    "    for j in range(1, 4):  # Inner loop for numbers 1 to 3\n",
    "        print(i, \"*\", j, \"=\", i * j)  # Print the multiplication of i and j\n",
    "    print()  # Print a blank line after each row\n"
   ]
  },
  {
   "cell_type": "code",
   "execution_count": 4,
   "id": "1f310437-5b30-43c8-8100-9cdbfacc5aaf",
   "metadata": {},
   "outputs": [
    {
     "name": "stdin",
     "output_type": "stream",
     "text": [
      "Type 'quit' to exit:  quit\n"
     ]
    }
   ],
   "source": [
    "# This while loop keeps running until the user inputs 'quit'.\n",
    "# The break statement is used to exit the loop when a certain condition is met.\n",
    "\n",
    "while True:  # Infinite loop\n",
    "    user_input = input(\"Type 'quit' to exit: \")  # Get input from the user\n",
    "    if user_input == \"quit\":  # Check if the user typed 'quit'\n",
    "        break  # Exit the loop if 'quit' is typed\n",
    "    print(\"You typed:\", user_input)  # Otherwise, print what the user typed\n"
   ]
  },
  {
   "cell_type": "code",
   "execution_count": 7,
   "id": "5a7d479c-3981-4e30-b081-ba03c911b23c",
   "metadata": {},
   "outputs": [
    {
     "name": "stdout",
     "output_type": "stream",
     "text": [
      "0\n",
      "1\n",
      "2\n",
      "Loop is finished\n"
     ]
    }
   ],
   "source": [
    "# Else block executes when the loop finishes without interruption\n",
    "for i in range(3):\n",
    "    print(i)\n",
    "else:\n",
    "    print(\"Loop is finished\")\n"
   ]
  },
  {
   "cell_type": "code",
   "execution_count": 8,
   "id": "177f850d-5e8e-4ced-95cc-1a385017a067",
   "metadata": {},
   "outputs": [
    {
     "name": "stdout",
     "output_type": "stream",
     "text": [
      "0\n",
      "1\n"
     ]
    }
   ],
   "source": [
    "# Stop the loop when i equals 2\n",
    "for i in range(5):\n",
    "    if i == 2:\n",
    "        break\n",
    "    print(i)\n"
   ]
  },
  {
   "cell_type": "code",
   "execution_count": 13,
   "id": "4f6f8a4b-b277-4014-bef1-94fc2c732aad",
   "metadata": {},
   "outputs": [
    {
     "name": "stdout",
     "output_type": "stream",
     "text": [
      "1 2 \n",
      "3 4 \n",
      "5 6 \n"
     ]
    }
   ],
   "source": [
    "# Loop through a 2D list (list of lists)\n",
    "matrix = [[1, 2], [3, 4], [5, 6]]\n",
    "for row in matrix:\n",
    "    for item in row:\n",
    "        print(item, end=\" \")\n",
    "    print()\n"
   ]
  },
  {
   "cell_type": "code",
   "execution_count": 14,
   "id": "b310710f-9f8b-4e7c-8d79-73d27de7f576",
   "metadata": {},
   "outputs": [
    {
     "name": "stdout",
     "output_type": "stream",
     "text": [
      "0\n",
      "2\n",
      "4\n",
      "6\n",
      "8\n"
     ]
    }
   ],
   "source": [
    "# Loop with a step of 2\n",
    "for i in range(0, 10, 2):\n",
    "    print(i)\n"
   ]
  },
  {
   "cell_type": "code",
   "execution_count": 15,
   "id": "9f7c44b2-1c23-4f9b-8c7c-f5bd956cb04a",
   "metadata": {},
   "outputs": [
    {
     "name": "stdout",
     "output_type": "stream",
     "text": [
      "2\n",
      "4\n",
      "6\n",
      "8\n",
      "10\n"
     ]
    }
   ],
   "source": [
    "# Print only even numbers between 1 and 10\n",
    "number = 1\n",
    "while number <= 10:\n",
    "    if number % 2 == 0:\n",
    "        print(number)\n",
    "    number += 1\n"
   ]
  },
  {
   "cell_type": "code",
   "execution_count": 16,
   "id": "9bd5ebe2-97ed-4acf-85d4-8aa84d3332b9",
   "metadata": {},
   "outputs": [
    {
     "name": "stdout",
     "output_type": "stream",
     "text": [
      "Maximum number is: 90\n"
     ]
    }
   ],
   "source": [
    "# Find the maximum number in a list using a for loop\n",
    "numbers = [12, 45, 32, 67, 29, 90, 23]\n",
    "max_num = numbers[0]  # Start by assuming the first number is the maximum\n",
    "for num in numbers:\n",
    "    if num > max_num:\n",
    "        max_num = num  # Update max_num if a larger number is found\n",
    "print(\"Maximum number is:\", max_num)\n"
   ]
  },
  {
   "cell_type": "code",
   "execution_count": 17,
   "id": "79f30c0f-5200-4f95-a8a2-a1fa7e91d64f",
   "metadata": {},
   "outputs": [
    {
     "name": "stdout",
     "output_type": "stream",
     "text": [
      "Alice is 24 years old\n",
      "Bob is 30 years old\n",
      "Charlie is 28 years old\n"
     ]
    }
   ],
   "source": [
    "# Use zip to loop through two lists at once\n",
    "names = [\"Alice\", \"Bob\", \"Charlie\"]\n",
    "ages = [24, 30, 28]\n",
    "for name, age in zip(names, ages):\n",
    "    print(name, \"is\", age, \"years old\")\n"
   ]
  },
  {
   "cell_type": "code",
   "execution_count": 18,
   "id": "30b380be-285e-44ab-b7ba-a474093c8227",
   "metadata": {},
   "outputs": [
    {
     "name": "stdout",
     "output_type": "stream",
     "text": [
      "2 is a prime number\n",
      "3 is a prime number\n",
      "5 is a prime number\n",
      "7 is a prime number\n",
      "11 is a prime number\n",
      "13 is a prime number\n",
      "17 is a prime number\n",
      "19 is a prime number\n",
      "23 is a prime number\n",
      "29 is a prime number\n",
      "31 is a prime number\n",
      "37 is a prime number\n",
      "41 is a prime number\n",
      "43 is a prime number\n",
      "47 is a prime number\n"
     ]
    }
   ],
   "source": [
    "# Find all prime numbers between 1 and 50\n",
    "for num in range(2, 51):\n",
    "    is_prime = True\n",
    "    for i in range(2, num):\n",
    "        if num % i == 0:\n",
    "            is_prime = False\n",
    "            break\n",
    "    if is_prime:\n",
    "        print(num, \"is a prime number\")\n"
   ]
  },
  {
   "cell_type": "code",
   "execution_count": 19,
   "id": "8a9c23fe-f32c-4f47-ad10-81526c3974f6",
   "metadata": {},
   "outputs": [
    {
     "name": "stdout",
     "output_type": "stream",
     "text": [
      "10\n",
      "9\n",
      "8\n",
      "7\n",
      "6\n",
      "5\n",
      "4\n",
      "3\n",
      "2\n",
      "1\n"
     ]
    }
   ],
   "source": [
    "# Loop through a range in reverse order and print numbers from 10 to 1\n",
    "for i in range(10, 0, -1):\n",
    "    print(i)\n"
   ]
  },
  {
   "cell_type": "code",
   "execution_count": 20,
   "id": "7fc4de8f-7183-4ebf-8cae-5b8d9e11f869",
   "metadata": {},
   "outputs": [
    {
     "name": "stdout",
     "output_type": "stream",
     "text": [
      "\n",
      "1. Check balance\n",
      "2. Deposit money\n",
      "3. Withdraw money\n",
      "4. Exit\n"
     ]
    },
    {
     "name": "stdin",
     "output_type": "stream",
     "text": [
      "Choose an option:  1\n"
     ]
    },
    {
     "name": "stdout",
     "output_type": "stream",
     "text": [
      "Your balance is: 1000\n",
      "\n",
      "1. Check balance\n",
      "2. Deposit money\n",
      "3. Withdraw money\n",
      "4. Exit\n"
     ]
    },
    {
     "name": "stdin",
     "output_type": "stream",
     "text": [
      "Choose an option:  4\n"
     ]
    }
   ],
   "source": [
    "# Simulate an ATM where the user can check balance, deposit, and withdraw\n",
    "balance = 1000\n",
    "while True:\n",
    "    print(\"\\n1. Check balance\")\n",
    "    print(\"2. Deposit money\")\n",
    "    print(\"3. Withdraw money\")\n",
    "    print(\"4. Exit\")\n",
    "    choice = int(input(\"Choose an option: \"))\n",
    "    \n",
    "    if choice == 1:\n",
    "        print(\"Your balance is:\", balance)\n",
    "    elif choice == 2:\n",
    "        deposit = int(input(\"Enter deposit amount: \"))\n",
    "        balance += deposit\n",
    "    elif choice == 3:\n",
    "        withdraw = int(input(\"Enter withdrawal amount: \"))\n",
    "        if withdraw <= balance:\n",
    "            balance -= withdraw\n",
    "        else:\n",
    "            print(\"Insufficient funds\")\n",
    "    elif choice == 4:\n",
    "        break\n",
    "    else:\n",
    "        print(\"Invalid option, please choose again.\")\n"
   ]
  },
  {
   "cell_type": "code",
   "execution_count": null,
   "id": "dcaaad75-a308-4884-bcb6-864c426740d8",
   "metadata": {},
   "outputs": [],
   "source": []
  }
 ],
 "metadata": {
  "kernelspec": {
   "display_name": "Python 3 (ipykernel)",
   "language": "python",
   "name": "python3"
  },
  "language_info": {
   "codemirror_mode": {
    "name": "ipython",
    "version": 3
   },
   "file_extension": ".py",
   "mimetype": "text/x-python",
   "name": "python",
   "nbconvert_exporter": "python",
   "pygments_lexer": "ipython3",
   "version": "3.9.7"
  }
 },
 "nbformat": 4,
 "nbformat_minor": 5
}
