{
 "cells": [
  {
   "cell_type": "code",
   "execution_count": 3,
   "id": "a9d29473-09cc-4dd0-90f2-0f228ae81b0a",
   "metadata": {},
   "outputs": [
    {
     "name": "stdout",
     "output_type": "stream",
     "text": [
      "Bubble Sort (μέγεθος 100): 0.000000 δευτερόλεπτα\n",
      "Selection Sort (μέγεθος 100): 0.000000 δευτερόλεπτα\n",
      "Merge Sort (μέγεθος 100): 0.000000 δευτερόλεπτα\n",
      "Bubble Sort (μέγεθος 1000): 0.099670 δευτερόλεπτα\n",
      "Selection Sort (μέγεθος 1000): 0.045343 δευτερόλεπτα\n",
      "Merge Sort (μέγεθος 1000): 0.002003 δευτερόλεπτα\n",
      "Bubble Sort (μέγεθος 5000): 1.820916 δευτερόλεπτα\n",
      "Selection Sort (μέγεθος 5000): 0.732642 δευτερόλεπτα\n",
      "Merge Sort (μέγεθος 5000): 0.018259 δευτερόλεπτα\n",
      "Bubble Sort (μέγεθος 10000): 7.468434 δευτερόλεπτα\n",
      "Selection Sort (μέγεθος 10000): 3.108629 δευτερόλεπτα\n",
      "Merge Sort (μέγεθος 10000): 0.053575 δευτερόλεπτα\n",
      "Bubble Sort (μέγεθος 50000): 242.760888 δευτερόλεπτα\n",
      "Selection Sort (μέγεθος 50000): 104.164614 δευτερόλεπτα\n",
      "Merge Sort (μέγεθος 50000): 0.352648 δευτερόλεπτα\n"
     ]
    }
   ],
   "source": [
    "import time\n",
    "import random\n",
    "\n",
    "# Bubble Sort\n",
    "def bubble_sort(arr):\n",
    "    n = len(arr)\n",
    "    for i in range(n):\n",
    "        for j in range(0, n - i - 1):\n",
    "            if arr[j] > arr[j + 1]:\n",
    "                arr[j], arr[j + 1] = arr[j + 1], arr[j]\n",
    "\n",
    "# Selection Sort\n",
    "def selection_sort(arr):\n",
    "    n = len(arr)\n",
    "    for i in range(n):\n",
    "        min_idx = i\n",
    "        for j in range(i + 1, n):\n",
    "            if arr[j] < arr[min_idx]:\n",
    "                min_idx = j\n",
    "        arr[i], arr[min_idx] = arr[min_idx], arr[i]\n",
    "\n",
    "# Merge Sort\n",
    "def merge_sort(arr):\n",
    "    if len(arr) > 1:\n",
    "        mid = len(arr) // 2\n",
    "        L = arr[:mid]\n",
    "        R = arr[mid:]\n",
    "\n",
    "        merge_sort(L)\n",
    "        merge_sort(R)\n",
    "\n",
    "        i = j = k = 0\n",
    "\n",
    "        while i < len(L) and j < len(R):\n",
    "            if L[i] < R[j]:\n",
    "                arr[k] = L[i]\n",
    "                i += 1\n",
    "            else:\n",
    "                arr[k] = R[j]\n",
    "                j += 1\n",
    "            k += 1\n",
    "\n",
    "        while i < len(L):\n",
    "            arr[k] = L[i]\n",
    "            i += 1\n",
    "            k += 1\n",
    "\n",
    "        while j < len(R):\n",
    "            arr[k] = R[j]\n",
    "            j += 1\n",
    "            k += 1\n",
    "\n",
    "# Συνάρτηση για τη μέτρηση χρόνου εκτέλεσης\n",
    "def measure_time(sort_function, arr):\n",
    "    start_time = time.time()\n",
    "    sort_function(arr)\n",
    "    end_time = time.time()\n",
    "    return end_time - start_time\n",
    "\n",
    "# Κυρίως πρόγραμμα\n",
    "if __name__ == \"__main__\":\n",
    "    # Διαφορετικά μεγέθη πινάκων για δοκιμή\n",
    "    sizes = [100, 1000, 5000, 10000, 50000]\n",
    "\n",
    "    # Εκτέλεση των αλγορίθμων για κάθε μέγεθος\n",
    "    for size in sizes:\n",
    "        arr = [random.randint(1, 10000) for _ in range(size)]\n",
    "\n",
    "        # Μέτρηση για Bubble Sort\n",
    "        arr_copy = arr.copy()\n",
    "        time_taken = measure_time(bubble_sort, arr_copy)\n",
    "        print(f\"Bubble Sort (μέγεθος {size}): {time_taken:.6f} δευτερόλεπτα\")\n",
    "\n",
    "        # Μέτρηση για Selection Sort\n",
    "        arr_copy = arr.copy()\n",
    "        time_taken = measure_time(selection_sort, arr_copy)\n",
    "        print(f\"Selection Sort (μέγεθος {size}): {time_taken:.6f} δευτερόλεπτα\")\n",
    "\n",
    "        # Μέτρηση για Merge Sort\n",
    "        arr_copy = arr.copy()\n",
    "        time_taken = measure_time(merge_sort, arr_copy)\n",
    "        print(f\"Merge Sort (μέγεθος {size}): {time_taken:.6f} δευτερόλεπτα\")\n"
   ]
  },
  {
   "cell_type": "code",
   "execution_count": 4,
   "id": "e0bb7030-f290-4573-9f44-c693481ffc84",
   "metadata": {},
   "outputs": [
    {
     "data": {
      "image/png": "[encoded data removed]",
      "text/plain": [
       "<Figure size 432x288 with 1 Axes>"
      ]
     },
     "metadata": {
      "needs_background": "light"
     },
     "output_type": "display_data"
    }
   ],
   "source": [
    "import matplotlib.pyplot as plt\n",
    "\n",
    "# New data provided by the user\n",
    "sizes_new = [100, 1000, 5000, 10000, 50000]\n",
    "bubble_sort_times_new = [0.000997, 0.083475, 1.759326, 7.272656, 180.501848]\n",
    "selection_sort_times_new = [0.000997, 0.031306, 0.703673, 2.743496, 71.400007]\n",
    "merge_sort_times_new = [0.000996, 0.003029, 0.017335, 0.035422, 0.206751]\n",
    "\n",
    "# Plotting the new graph\n",
    "plt.plot(sizes_new, bubble_sort_times_new, label=\"Bubble Sort\", marker='o')\n",
    "plt.plot(sizes_new, selection_sort_times_new, label=\"Selection Sort\", marker='o')\n",
    "plt.plot(sizes_new, merge_sort_times_new, label=\"Merge Sort\", marker='o')\n",
    "\n",
    "# Adding titles and labels\n",
    "plt.title(\"Sorting Algorithm Time Complexity (New Data)\")\n",
    "plt.xlabel(\"Input Size (n)\")\n",
    "plt.ylabel(\"Time (seconds)\")\n",
    "plt.legend()\n",
    "\n",
    "# Display the plot\n",
    "plt.grid(True)\n",
    "plt.show()\n"
   ]
  },
  {
   "cell_type": "code",
   "execution_count": null,
   "id": "62694031-8c9d-440a-a7bd-b48a5cdf4775",
   "metadata": {},
   "outputs": [],
   "source": []
  },
  {
   "cell_type": "code",
   "execution_count": null,
   "id": "9405d23b-9638-476b-b98a-348e4f2824c7",
   "metadata": {},
   "outputs": [],
   "source": []
  },
  {
   "cell_type": "code",
   "execution_count": null,
   "id": "cbbbb892-58a9-42e1-9f6e-b4c41d3b6c64",
   "metadata": {},
   "outputs": [],
   "source": []
  }
 ],
 "metadata": {
  "kernelspec": {
   "display_name": "Python 3 (ipykernel)",
   "language": "python",
   "name": "python3"
  },
  "language_info": {
   "codemirror_mode": {
    "name": "ipython",
    "version": 3
   },
   "file_extension": ".py",
   "mimetype": "text/x-python",
   "name": "python",
   "nbconvert_exporter": "python",
   "pygments_lexer": "ipython3",
   "version": "3.9.7"
  }
 },
 "nbformat": 4,
 "nbformat_minor": 5
}
