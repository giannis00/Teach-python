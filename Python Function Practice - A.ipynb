{
 "cells": [
  {
   "cell_type": "markdown",
   "id": "c50e4942-40f9-4027-87d9-d1e6c18d9931",
   "metadata": {},
   "source": [
    "##  1. Multiply List Elements"
   ]
  },
  {
   "cell_type": "code",
   "execution_count": 5,
   "id": "4821d92c-b0f0-4606-811e-d6038dddb6e1",
   "metadata": {},
   "outputs": [
    {
     "name": "stdout",
     "output_type": "stream",
     "text": [
      "[2, 4, 6]\n"
     ]
    }
   ],
   "source": [
    "def multiply_by_two(numbers):\n",
    "    new_list = []\n",
    "    for num in numbers:\n",
    "        new_list.append(num * 2)\n",
    "    return new_list\n",
    "\n",
    "# Test\n",
    "print(multiply_by_two([1, 2, 3]))  # Output: [2, 4, 6]"
   ]
  },
  {
   "cell_type": "markdown",
   "id": "c45d86f4-1ec6-4697-b0aa-f21d9ccf7efb",
   "metadata": {},
   "source": [
    "##  2. Count Vowels in a String"
   ]
  },
  {
   "cell_type": "code",
   "execution_count": 6,
   "id": "6532f4fd-3467-4368-8adf-457358d436b5",
   "metadata": {},
   "outputs": [
    {
     "name": "stdout",
     "output_type": "stream",
     "text": [
      "2\n"
     ]
    }
   ],
   "source": [
    "def count_vowels(s):\n",
    "    vowels = 'aeiou'\n",
    "    count = 0\n",
    "    for char in s.lower():\n",
    "        if char in vowels:\n",
    "            count += 1\n",
    "    return count\n",
    "\n",
    "# Test\n",
    "print(count_vowels(\"hello\"))  # Output: 2"
   ]
  },
  {
   "cell_type": "markdown",
   "id": "81e1f259-0f5c-409b-a8bc-7f00c1040b56",
   "metadata": {},
   "source": [
    "## 3. Average of Numbers"
   ]
  },
  {
   "cell_type": "code",
   "execution_count": 7,
   "id": "6517c562-576f-49a5-b06e-df76f88106fc",
   "metadata": {},
   "outputs": [
    {
     "name": "stdout",
     "output_type": "stream",
     "text": [
      "2.5\n"
     ]
    }
   ],
   "source": [
    "def average(numbers):\n",
    "    total = 0\n",
    "    for num in numbers:\n",
    "        total += num\n",
    "    return total / len(numbers)\n",
    "\n",
    "# Test\n",
    "print(average([1, 2, 3, 4]))  # Output: 2.5"
   ]
  },
  {
   "cell_type": "markdown",
   "id": "3d92be6c-577f-47e4-a29b-9a89f6833320",
   "metadata": {},
   "source": [
    "##  4. Replace Spaces with Dashes"
   ]
  },
  {
   "cell_type": "code",
   "execution_count": 8,
   "id": "d5c2141b-37b5-4c8d-9ecf-8daaa4dac3f9",
   "metadata": {},
   "outputs": [
    {
     "name": "stdout",
     "output_type": "stream",
     "text": [
      "hello-world\n"
     ]
    }
   ],
   "source": [
    "def dash_string(s):\n",
    "    result = \"\"\n",
    "    for char in s:\n",
    "        if char == \" \":\n",
    "            result += \"-\"\n",
    "        else:\n",
    "            result += char\n",
    "    return result\n",
    "\n",
    "# Test\n",
    "print(dash_string(\"hello world\"))  # Output: hello-world"
   ]
  },
  {
   "cell_type": "markdown",
   "id": "b9a4b9fb-c5b8-4a61-b073-15ee034b35eb",
   "metadata": {},
   "source": [
    "##  5. Filter Positive Numbers"
   ]
  },
  {
   "cell_type": "code",
   "execution_count": 9,
   "id": "cf34ac5c-8fe4-4f14-9d45-acfac06a2de8",
   "metadata": {},
   "outputs": [
    {
     "name": "stdout",
     "output_type": "stream",
     "text": [
      "[2, 4]\n"
     ]
    }
   ],
   "source": [
    "def positive_only(numbers):\n",
    "    positives = []\n",
    "    for num in numbers:\n",
    "        if num > 0:\n",
    "            positives.append(num)\n",
    "    return positives\n",
    "\n",
    "# Test\n",
    "print(positive_only([-1, 2, -3, 4, 0]))  # Output: [2, 4]"
   ]
  },
  {
   "cell_type": "markdown",
   "id": "b69449d3-4c26-4244-8f2d-8887218e3f80",
   "metadata": {},
   "source": [
    "##  6. Find Duplicates in a List"
   ]
  },
  {
   "cell_type": "code",
   "execution_count": 10,
   "id": "4a6f21a2-49d3-4e8b-b2dd-2786462c76e8",
   "metadata": {},
   "outputs": [
    {
     "name": "stdout",
     "output_type": "stream",
     "text": [
      "[2, 4]\n"
     ]
    }
   ],
   "source": [
    "def find_duplicates(lst):\n",
    "    seen = {}\n",
    "    duplicates = []\n",
    "    for item in lst:\n",
    "        if item in seen:\n",
    "            if seen[item] == 1:\n",
    "                duplicates.append(item)\n",
    "            seen[item] += 1\n",
    "        else:\n",
    "            seen[item] = 1\n",
    "    return duplicates\n",
    "\n",
    "# Test\n",
    "print(find_duplicates([1, 2, 2, 3, 4, 4, 5]))  # Output: [2, 4]"
   ]
  },
  {
   "cell_type": "markdown",
   "id": "a1256c42-8f1e-4853-ad73-c5d44b44c0fe",
   "metadata": {},
   "source": [
    "##  7. Palindrome Checker"
   ]
  },
  {
   "cell_type": "code",
   "execution_count": 11,
   "id": "2ce74c7b-cbb6-410b-b23d-7e300a1ef5a6",
   "metadata": {},
   "outputs": [
    {
     "name": "stdout",
     "output_type": "stream",
     "text": [
      "True\n"
     ]
    }
   ],
   "source": [
    "def is_palindrome(s):\n",
    "    cleaned = \"\"\n",
    "    for char in s:\n",
    "        if char.isalpha():\n",
    "            cleaned += char.lower()\n",
    "    reversed_cleaned = \"\"\n",
    "    for char in cleaned:\n",
    "        reversed_cleaned = char + reversed_cleaned\n",
    "    return cleaned == reversed_cleaned\n",
    "\n",
    "# Test\n",
    "print(is_palindrome(\"A man, a plan, a canal: Panama\"))  # Output: True"
   ]
  },
  {
   "cell_type": "markdown",
   "id": "6f39c98b-d2bb-40f4-a105-80238bfb37a0",
   "metadata": {},
   "source": [
    "##  8. Matrix Diagonal Sum"
   ]
  },
  {
   "cell_type": "code",
   "execution_count": 13,
   "id": "07813d41-1953-494d-b544-4ab25cb325e4",
   "metadata": {},
   "outputs": [
    {
     "name": "stdout",
     "output_type": "stream",
     "text": [
      "15\n"
     ]
    }
   ],
   "source": [
    "def diagonal_sum(matrix):\n",
    "    total = 0\n",
    "    for i in range(len(matrix)):\n",
    "        total += matrix[i][i]\n",
    "    return total\n",
    "\n",
    "# Test\n",
    "print(diagonal_sum([[1, 2, 3], [4, 5, 6], [7, 8, 9]]))  # Output: 15"
   ]
  },
  {
   "cell_type": "markdown",
   "id": "ff9ad06b-1547-4a2f-8f61-c1a31af8972c",
   "metadata": {},
   "source": [
    "##  9. Anagram Groups"
   ]
  },
  {
   "cell_type": "code",
   "execution_count": 14,
   "id": "744fe6a9-8cf0-448e-8fc1-311d6292b798",
   "metadata": {},
   "outputs": [
    {
     "name": "stdout",
     "output_type": "stream",
     "text": [
      "{'aet': ['eat', 'tea', 'ate'], 'ant': ['tan', 'nat'], 'abt': ['bat']}\n"
     ]
    }
   ],
   "source": [
    "def group_anagrams(words):\n",
    "    anagram_groups = {}\n",
    "    for word in words:\n",
    "        sorted_word = ''.join(sorted(word))\n",
    "        if sorted_word in anagram_groups:\n",
    "            anagram_groups[sorted_word].append(word)\n",
    "        else:\n",
    "            anagram_groups[sorted_word] = [word]\n",
    "    return anagram_groups\n",
    "\n",
    "# Test\n",
    "print(group_anagrams([\"eat\", \"tea\", \"tan\", \"ate\", \"nat\", \"bat\"]))\n",
    "# Output: {'aet': ['eat', 'tea', 'ate'], 'ant': ['tan', 'nat'], 'abt': ['bat']}"
   ]
  },
  {
   "cell_type": "markdown",
   "id": "63fb634d-e318-4cc0-a03e-cd8947cf5bcb",
   "metadata": {},
   "source": [
    "##  10. Longest Common Prefix"
   ]
  },
  {
   "cell_type": "code",
   "execution_count": 15,
   "id": "1851e1d5-f4c4-410d-8e68-4106867ba449",
   "metadata": {},
   "outputs": [
    {
     "name": "stdout",
     "output_type": "stream",
     "text": [
      "fl\n"
     ]
    }
   ],
   "source": [
    "def longest_common_prefix(strs):\n",
    "    if not strs:\n",
    "        return \"\"\n",
    "    prefix = strs[0]\n",
    "    for s in strs[1:]:\n",
    "        while not s.startswith(prefix):\n",
    "            prefix = prefix[:-1]\n",
    "            if not prefix:\n",
    "                return \"\"\n",
    "    return prefix\n",
    "\n",
    "# Test\n",
    "print(longest_common_prefix([\"flower\", \"flow\", \"flight\"]))  # Output: fl"
   ]
  },
  {
   "cell_type": "code",
   "execution_count": null,
   "id": "9b284c5d-38e0-43f4-a7d6-5b71228b9c06",
   "metadata": {},
   "outputs": [],
   "source": []
  }
 ],
 "metadata": {
  "kernelspec": {
   "display_name": "Python 3 (ipykernel)",
   "language": "python",
   "name": "python3"
  },
  "language_info": {
   "codemirror_mode": {
    "name": "ipython",
    "version": 3
   },
   "file_extension": ".py",
   "mimetype": "text/x-python",
   "name": "python",
   "nbconvert_exporter": "python",
   "pygments_lexer": "ipython3",
   "version": "3.9.7"
  }
 },
 "nbformat": 4,
 "nbformat_minor": 5
}
