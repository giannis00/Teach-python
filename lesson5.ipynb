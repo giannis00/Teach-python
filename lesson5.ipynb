{
 "cells": [
  {
   "cell_type": "markdown",
   "id": "00349317-920a-48a5-8128-5883a0e03f33",
   "metadata": {},
   "source": [
    "**Divisibility Checker**"
   ]
  },
  {
   "cell_type": "code",
   "execution_count": 2,
   "id": "80cffd04-454e-40eb-a8c4-b086ca266832",
   "metadata": {},
   "outputs": [
    {
     "name": "stdin",
     "output_type": "stream",
     "text": [
      "Enter the dividend (a):  10\n",
      "Enter the divisor (b):  2\n"
     ]
    },
    {
     "name": "stdout",
     "output_type": "stream",
     "text": [
      "10 is divisible by 2.\n"
     ]
    }
   ],
   "source": [
    "a = int(input(\"Enter the dividend (a): \"))\n",
    "\n",
    "while a <= 0:\n",
    "    print(\"Invalid input! Please enter a positive integer.\")\n",
    "    a = int(input(\"Enter the dividend (a): \"))\n",
    "\n",
    "b = int(input(\"Enter the divisor (b): \"))\n",
    "\n",
    "while b <= 0:\n",
    "    print(\"Invalid input! Divisor cannot be zero or negative.\")\n",
    "    b = int(input(\"Enter the divisor (b): \"))\n",
    "\n",
    "if a % b == 0:\n",
    "    print(f\"{a} is divisible by {b}.\")\n",
    "else:\n",
    "    print(f\"{a} is not divisible by {b}.\")\n"
   ]
  },
  {
   "cell_type": "markdown",
   "id": "3f1d5cef-de3e-4051-a33b-8b832747513e",
   "metadata": {},
   "source": [
    "**Password Validator**"
   ]
  },
  {
   "cell_type": "code",
   "execution_count": 3,
   "id": "9c652bdd-b4cb-4929-9ac7-f90f471818fe",
   "metadata": {},
   "outputs": [
    {
     "name": "stdin",
     "output_type": "stream",
     "text": [
      "Enter a password:  fyghj\n"
     ]
    },
    {
     "name": "stdout",
     "output_type": "stream",
     "text": [
      "Password must be at least 8 characters long.\n"
     ]
    },
    {
     "name": "stdin",
     "output_type": "stream",
     "text": [
      "Enter a password:  GHJKDK!\n"
     ]
    },
    {
     "name": "stdout",
     "output_type": "stream",
     "text": [
      "Password must be at least 8 characters long.\n"
     ]
    },
    {
     "name": "stdin",
     "output_type": "stream",
     "text": [
      "Enter a password:  HFHJSjakak!230\n"
     ]
    },
    {
     "name": "stdout",
     "output_type": "stream",
     "text": [
      "Password is valid.\n"
     ]
    }
   ],
   "source": [
    "import re\n",
    "\n",
    "password = input(\"Enter a password: \")\n",
    "\n",
    "while True:\n",
    "    if len(password) < 8:\n",
    "        print(\"Password must be at least 8 characters long.\")\n",
    "    elif not re.search(\"[a-z]\", password):\n",
    "        print(\"Password must contain at least one lowercase letter.\")\n",
    "    elif not re.search(\"[A-Z]\", password):\n",
    "        print(\"Password must contain at least one uppercase letter.\")\n",
    "    elif not re.search(\"[0-9]\", password):\n",
    "        print(\"Password must contain at least one digit.\")\n",
    "    elif not re.search(\"[!@#$%^&*(),.?\\\":{}|<>]\", password):\n",
    "        print(\"Password must contain at least one special character.\")\n",
    "    else:\n",
    "        print(\"Password is valid.\")\n",
    "        break\n",
    "    password = input(\"Enter a password: \")\n"
   ]
  },
  {
   "cell_type": "markdown",
   "id": "a5cdd13b-c3b0-4afd-bdf7-d240c418ec5e",
   "metadata": {},
   "source": [
    "**Simple Calculator**"
   ]
  },
  {
   "cell_type": "code",
   "execution_count": 4,
   "id": "58838fd0-70aa-41e1-9fe2-fbd46fceacef",
   "metadata": {},
   "outputs": [
    {
     "name": "stdin",
     "output_type": "stream",
     "text": [
      "Enter the first number:  10\n",
      "Enter the second number:  120\n",
      "Choose an operation (+, -, *, /):  *\n"
     ]
    },
    {
     "name": "stdout",
     "output_type": "stream",
     "text": [
      "Result: 1200.0\n"
     ]
    }
   ],
   "source": [
    "try:\n",
    "    num1 = float(input(\"Enter the first number: \"))\n",
    "    num2 = float(input(\"Enter the second number: \"))\n",
    "    operation = input(\"Choose an operation (+, -, *, /): \")\n",
    "\n",
    "    if operation == '+':\n",
    "        result = num1 + num2\n",
    "        print(f\"Result: {result}\")\n",
    "    elif operation == '-':\n",
    "        result = num1 - num2\n",
    "        print(f\"Result: {result}\")\n",
    "    elif operation == '*':\n",
    "        result = num1 * num2\n",
    "        print(f\"Result: {result}\")\n",
    "    elif operation == '/':\n",
    "        if num2 == 0:\n",
    "            print(\"Error: Cannot divide by zero.\")\n",
    "        else:\n",
    "            result = num1 / num2\n",
    "            print(f\"Result: {result}\")\n",
    "    else:\n",
    "        print(\"Invalid operation.\")\n",
    "except ValueError:\n",
    "    print(\"Invalid input. Please enter numeric values.\")\n"
   ]
  },
  {
   "cell_type": "markdown",
   "id": "82dbe10e-ee40-42eb-acc4-8d9445c21280",
   "metadata": {},
   "source": [
    "**Default Parameters**"
   ]
  },
  {
   "cell_type": "code",
   "execution_count": 5,
   "id": "bbf43859-28fc-41f4-94dd-b676f0c61fa9",
   "metadata": {},
   "outputs": [
    {
     "name": "stdout",
     "output_type": "stream",
     "text": [
      "Power of 5 raised to 2 is 25\n",
      "Power of 5 raised to 3 is 125\n"
     ]
    }
   ],
   "source": [
    "def power(base, exponent=2):\n",
    "    return base ** exponent\n",
    "\n",
    "# Main program\n",
    "print(f\"Power of 5 raised to 2 is {power(5)}\")\n",
    "print(f\"Power of 5 raised to 3 is {power(5, 3)}\")\n"
   ]
  },
  {
   "cell_type": "markdown",
   "id": "f60ceef6-8be9-49d6-98eb-41ea5f4818fa",
   "metadata": {},
   "source": [
    "**Recursive Function**"
   ]
  },
  {
   "cell_type": "code",
   "execution_count": 7,
   "id": "8808209e-696a-4120-a0e5-162ffb415acb",
   "metadata": {},
   "outputs": [
    {
     "name": "stdout",
     "output_type": "stream",
     "text": [
      "Factorial of 2 is 2.\n"
     ]
    }
   ],
   "source": [
    "def factorial(n):\n",
    "    if n == 1:\n",
    "        return 1\n",
    "    else:\n",
    "        return n * factorial(n - 1)\n",
    "\n",
    "# Main program\n",
    "number = 2\n",
    "result = factorial(number)\n",
    "print(f\"Factorial of {number} is {result}.\")\n"
   ]
  },
  {
   "cell_type": "markdown",
   "id": "256f5ef8-f240-486e-92d1-537c78651310",
   "metadata": {},
   "source": [
    "**Sum of Positive Numbers**"
   ]
  },
  {
   "cell_type": "code",
   "execution_count": 8,
   "id": "5d6bbd76-077b-41f6-b659-14c9bc5091a0",
   "metadata": {},
   "outputs": [
    {
     "name": "stdin",
     "output_type": "stream",
     "text": [
      "Enter a positive number (negative to quit):  11\n",
      "Enter a positive number (negative to quit):  123\n",
      "Enter a positive number (negative to quit):  -1\n"
     ]
    },
    {
     "name": "stdout",
     "output_type": "stream",
     "text": [
      "The sum of the positive numbers is 134.\n"
     ]
    }
   ],
   "source": [
    "total = 0\n",
    "\n",
    "while True:\n",
    "    number = int(input(\"Enter a positive number (negative to quit): \"))\n",
    "    if number < 0:\n",
    "        break\n",
    "    total += number\n",
    "\n",
    "print(f\"The sum of the positive numbers is {total}.\")\n"
   ]
  },
  {
   "cell_type": "markdown",
   "id": "1de2dd94-b0a1-4e94-97cf-395373949189",
   "metadata": {},
   "source": [
    "**Collatz Conjecture**"
   ]
  },
  {
   "cell_type": "code",
   "execution_count": 9,
   "id": "9fc07eb3-9ce5-4128-b65d-2e5e4397cf7b",
   "metadata": {},
   "outputs": [
    {
     "name": "stdin",
     "output_type": "stream",
     "text": [
      "Enter a positive integer:  20\n"
     ]
    },
    {
     "name": "stdout",
     "output_type": "stream",
     "text": [
      "20\n",
      "10\n",
      "5\n",
      "16\n",
      "8\n",
      "4\n",
      "2\n",
      "1\n"
     ]
    }
   ],
   "source": [
    "n = int(input(\"Enter a positive integer: \"))\n",
    "\n",
    "while n <= 0:\n",
    "    print(\"Invalid input! Please enter a positive integer.\")\n",
    "    n = int(input(\"Enter a positive integer: \"))\n",
    "\n",
    "while n != 1:\n",
    "    print(n)\n",
    "    if n % 2 == 0:\n",
    "        n = n // 2\n",
    "    else:\n",
    "        n = 3 * n + 1\n",
    "\n",
    "print(n)  # Print 1 at the end\n"
   ]
  },
  {
   "cell_type": "markdown",
   "id": "db783fb8-8fe2-48b8-aba2-83069b848c32",
   "metadata": {},
   "source": [
    "**User Menu Selection**"
   ]
  },
  {
   "cell_type": "code",
   "execution_count": 11,
   "id": "8a9d8c2e-656d-4036-a460-2c8e9a82b897",
   "metadata": {},
   "outputs": [
    {
     "name": "stdout",
     "output_type": "stream",
     "text": [
      "\n",
      "Menu:\n",
      "1. Option A\n",
      "2. Option B\n",
      "3. Option C\n",
      "4. Exit\n"
     ]
    },
    {
     "name": "stdin",
     "output_type": "stream",
     "text": [
      "Enter your choice:  3\n"
     ]
    },
    {
     "name": "stdout",
     "output_type": "stream",
     "text": [
      "You selected Option C.\n",
      "\n",
      "Menu:\n",
      "1. Option A\n",
      "2. Option B\n",
      "3. Option C\n",
      "4. Exit\n"
     ]
    },
    {
     "name": "stdin",
     "output_type": "stream",
     "text": [
      "Enter your choice:  1\n"
     ]
    },
    {
     "name": "stdout",
     "output_type": "stream",
     "text": [
      "You selected Option A.\n",
      "\n",
      "Menu:\n",
      "1. Option A\n",
      "2. Option B\n",
      "3. Option C\n",
      "4. Exit\n"
     ]
    },
    {
     "name": "stdin",
     "output_type": "stream",
     "text": [
      "Enter your choice:  4\n"
     ]
    },
    {
     "name": "stdout",
     "output_type": "stream",
     "text": [
      "Exiting the program.\n"
     ]
    }
   ],
   "source": [
    "choice = 0\n",
    "\n",
    "while choice != 4:\n",
    "    print(\"\\nMenu:\")\n",
    "    print(\"1. Option A\")\n",
    "    print(\"2. Option B\")\n",
    "    print(\"3. Option C\")\n",
    "    print(\"4. Exit\")\n",
    "    choice = int(input(\"Enter your choice: \"))\n",
    "    \n",
    "    if choice == 1:\n",
    "        print(\"You selected Option A.\")\n",
    "    elif choice == 2:\n",
    "        print(\"You selected Option B.\")\n",
    "    elif choice == 3:\n",
    "        print(\"You selected Option C.\")\n",
    "    elif choice == 4:\n",
    "        print(\"Exiting the program.\")\n",
    "    else:\n",
    "        print(\"Invalid choice. Please try again.\")\n"
   ]
  },
  {
   "cell_type": "markdown",
   "id": "766622a7-7fc0-480e-9e93-662f12e93d4a",
   "metadata": {},
   "source": [
    "**Finding the Maximum Number**"
   ]
  },
  {
   "cell_type": "code",
   "execution_count": 12,
   "id": "01d15aba-c1fe-4d2f-a28c-289a6e09a097",
   "metadata": {},
   "outputs": [
    {
     "name": "stdout",
     "output_type": "stream",
     "text": [
      "List: [3, 7, 2, 9, 5]\n",
      "Maximum number: 9\n"
     ]
    }
   ],
   "source": [
    "numbers = [3, 7, 2, 9, 5]\n",
    "max_number = numbers[0]\n",
    "\n",
    "for num in numbers:\n",
    "    if num > max_number:\n",
    "        max_number = num\n",
    "\n",
    "print(f\"List: {numbers}\")\n",
    "print(f\"Maximum number: {max_number}\")\n"
   ]
  },
  {
   "cell_type": "markdown",
   "id": "673ffd0d-4558-40fc-bc86-9c6f94843a53",
   "metadata": {},
   "source": [
    "**Filtering Even Numbers**"
   ]
  },
  {
   "cell_type": "code",
   "execution_count": 13,
   "id": "6af13f4c-2291-48f3-885e-fa071a50d713",
   "metadata": {},
   "outputs": [
    {
     "name": "stdout",
     "output_type": "stream",
     "text": [
      "Original list: [1, 2, 3, 4, 5, 6]\n",
      "Even numbers: [2, 4, 6]\n"
     ]
    }
   ],
   "source": [
    "numbers = [1, 2, 3, 4, 5, 6]\n",
    "even_numbers = []\n",
    "\n",
    "for num in numbers:\n",
    "    if num % 2 == 0:\n",
    "        even_numbers.append(num)\n",
    "\n",
    "print(f\"Original list: {numbers}\")\n",
    "print(f\"Even numbers: {even_numbers}\")\n"
   ]
  },
  {
   "cell_type": "markdown",
   "id": "8e2d195e-8ee9-4273-ad86-06ba2f9d1603",
   "metadata": {},
   "source": [
    "**Finding Prime Numbers**"
   ]
  },
  {
   "cell_type": "code",
   "execution_count": 14,
   "id": "d81b9082-69b2-4f12-8145-9612ab8ee3fb",
   "metadata": {},
   "outputs": [
    {
     "name": "stdout",
     "output_type": "stream",
     "text": [
      "Prime numbers between 2 and 50:\n",
      "2\n",
      "3\n",
      "5\n",
      "7\n",
      "11\n",
      "13\n",
      "17\n",
      "19\n",
      "23\n",
      "29\n",
      "31\n",
      "37\n",
      "41\n",
      "43\n",
      "47\n"
     ]
    }
   ],
   "source": [
    "print(\"Prime numbers between 2 and 50:\")\n",
    "\n",
    "for num in range(2, 51):\n",
    "    is_prime = True\n",
    "    for divisor in range(2, int(num ** 0.5) + 1):\n",
    "        if num % divisor == 0:\n",
    "            is_prime = False\n",
    "            break\n",
    "    if is_prime:\n",
    "        print(num)\n"
   ]
  },
  {
   "cell_type": "code",
   "execution_count": null,
   "id": "6b676f59-ae60-4c1a-83f6-b5a1f27890f3",
   "metadata": {},
   "outputs": [],
   "source": []
  }
 ],
 "metadata": {
  "kernelspec": {
   "display_name": "Python 3 (ipykernel)",
   "language": "python",
   "name": "python3"
  },
  "language_info": {
   "codemirror_mode": {
    "name": "ipython",
    "version": 3
   },
   "file_extension": ".py",
   "mimetype": "text/x-python",
   "name": "python",
   "nbconvert_exporter": "python",
   "pygments_lexer": "ipython3",
   "version": "3.9.7"
  }
 },
 "nbformat": 4,
 "nbformat_minor": 5
}
