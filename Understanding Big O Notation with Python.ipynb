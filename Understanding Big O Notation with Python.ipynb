{
 "cells": [
  {
   "cell_type": "markdown",
   "id": "ac74cfc7-df43-4a33-bbff-cba0b984f03d",
   "metadata": {},
   "source": [
    "# Understanding Big O Notation with Python\n",
    "This notebook demonstrates Big O notation using simple Python programs. We'll explore common complexities like **O(1)**, **O(n)**, **O(n²)**, **O(log n)**, and **O(n log n)** with corresponding examples and visualizations.\n"
   ]
  },
  {
   "cell_type": "markdown",
   "id": "d67a9b57-de7e-4340-8b9e-df4f161a24ab",
   "metadata": {},
   "source": [
    "## O(1) - Constant Time\n",
    "An operation with O(1) complexity takes the same time regardless of the input size. For example, accessing an element in a list.\n"
   ]
  },
  {
   "cell_type": "code",
   "execution_count": 2,
   "id": "6a013ccc-0beb-4320-bf20-be1e637c18a6",
   "metadata": {},
   "outputs": [
    {
     "name": "stdout",
     "output_type": "stream",
     "text": [
      "Time taken for 1000000 O(1) operations: 0.09449005126953125\n"
     ]
    }
   ],
   "source": [
    "import time\n",
    "\n",
    "# List of 10 million elements\n",
    "large_list = list(range(10_000_000))\n",
    "\n",
    "# Repeat the access operation multiple times\n",
    "repeats = 1_000_000  # Number of repetitions\n",
    "index = 500_000  # Access this middle element repeatedly\n",
    "\n",
    "# Measure time to repeatedly access the element\n",
    "start_time = time.time()\n",
    "for _ in range(repeats):\n",
    "    element = large_list[index]\n",
    "end_time = time.time()\n",
    "\n",
    "print(f\"Time taken for {repeats} O(1) operations:\", end_time - start_time)\n"
   ]
  },
  {
   "cell_type": "markdown",
   "id": "d4b6d2cd-4202-4a42-98c1-322a089b7a46",
   "metadata": {},
   "source": [
    "## Why is the Big O Complexity O(1)?\n",
    "This operation has **constant time complexity (O(1))** because:\n",
    "\n",
    "1. **Direct Access**: Python lists are implemented as arrays under the hood. Accessing an element by index involves calculating the memory address directly, which does not depend on the size of the list.\n",
    "\n",
    "2. **No Loops or Scaling**: The time taken to retrieve the element is constant and does not grow with the input size (`len(large_list)`).\n",
    "\n",
    "3. **Repeated Operations**: In this example, the operation is repeated **1,000,000 times** to measure the total time. However, each individual operation is still O(1).\n",
    "\n",
    "### Key Takeaway:\n",
    "Even though the total time increases with the number of repetitions, the complexity remains **O(1)** because the time for a single access operation is constant, regardless of the list size.\n"
   ]
  },
  {
   "cell_type": "markdown",
   "id": "6c29eaff-dbb8-40ee-b0aa-b5b355466c18",
   "metadata": {},
   "source": [
    "## Experiment: Measuring Time for O(1) Operations with Different Input Sizes\n",
    "\n",
    "In this experiment, we measure the time taken for an O(1) operation (accessing an element by index) with lists of varying sizes. \n",
    "\n",
    "### Steps:\n",
    "1. Create lists with different sizes: 10 million, 50 million, 100 million, and 200 million elements.\n",
    "2. Access the middle element of each list.\n",
    "3. Record the time taken for this operation.\n",
    "4. Plot the input sizes against the measured times to observe the relationship.\n",
    "\n",
    "### Expected Outcome:\n",
    "Since accessing an element by index is an O(1) operation, the time taken should remain constant regardless of the input size. The resulting graph is expected to be nearly flat.\n"
   ]
  },
  {
   "cell_type": "code",
   "execution_count": 6,
   "id": "8b348467-9b04-45f7-a802-7c5d7c39ab76",
   "metadata": {},
   "outputs": [
    {
     "name": "stdout",
     "output_type": "stream",
     "text": [
      "Time taken for 10000000 O(1) operations with input size 10000000: 0.703293 seconds\n",
      "Time taken for 10000000 O(1) operations with input size 50000000: 0.689426 seconds\n",
      "Time taken for 10000000 O(1) operations with input size 100000000: 0.700604 seconds\n"
     ]
    }
   ],
   "source": [
    "import time\n",
    "import matplotlib.pyplot as plt\n",
    "\n",
    "# Use higher resolution timer\n",
    "timer = time.perf_counter\n",
    "\n",
    "# Define different input sizes\n",
    "input_sizes = [10_000_000, 50_000_000, 100_000_000]\n",
    "times = []\n",
    "\n",
    "# Number of repetitions\n",
    "repeats = 10_000_000  # Increased to get measurable time\n",
    "\n",
    "# Measure time for O(1) access for each input size\n",
    "for size in input_sizes:\n",
    "    large_list = list(range(size))\n",
    "    index = size // 2  # Access the middle element\n",
    "\n",
    "    # Warm up the list to avoid initial loading time affecting measurements\n",
    "    _ = large_list[0]\n",
    "\n",
    "    # Time the O(1) operation repeated multiple times\n",
    "    start_time = timer()\n",
    "    for _ in range(repeats):\n",
    "        element = large_list[index]\n",
    "    end_time = timer()\n",
    "\n",
    "    elapsed_time = end_time - start_time\n",
    "    times.append(elapsed_time)\n",
    "    print(f\"Time taken for {repeats} O(1) operations with input size {size}: {elapsed_time:.6f} seconds\")\n",
    "\n",
    "\n"
   ]
  },
  {
   "cell_type": "markdown",
   "id": "fcd935cc-b442-4274-961c-6edfb0e9fea5",
   "metadata": {},
   "source": [
    "## Why Are the Times Almost the Same for O(1) Operations?\n",
    "\n",
    "In this experiment, we measured the time taken for **10,000,000 O(1) operations** with varying input sizes:\n",
    "\n",
    "- Input Size: 10,000,000 → Time Taken: 0.703293 seconds\n",
    "- Input Size: 50,000,000 → Time Taken: 0.689426 seconds\n",
    "- Input Size: 100,000,000 → Time Taken: 0.700604 seconds\n",
    "\n",
    "### Expected Outcome\n",
    "For an **O(1)** operation, the time taken should remain constant because:\n",
    "1. The complexity of accessing a list element by index does not depend on the size of the list.\n",
    "2. Each operation involves a direct memory address lookup, which is inherently fast.\n",
    "\n",
    "### Observed Results\n",
    "The measured times are almost identical across different input sizes, confirming the constant-time behavior of O(1):\n",
    "- **Small Variations**:\n",
    "  - Differences are minimal (in the range of milliseconds) and are due to external factors like hardware, memory hierarchy, and background processes.\n",
    "  - These variations do not affect the conclusion that accessing an element by index is an O(1) operation.\n",
    "\n",
    "### Key Takeaway\n",
    "Despite slight variations caused by system-level factors, the results align with the theoretical prediction that **O(1) operations take constant time regardless of input size**.\n"
   ]
  },
  {
   "cell_type": "markdown",
   "id": "a0c201e5-21e4-407f-9e78-f70c4204a7aa",
   "metadata": {},
   "source": [
    "## Another Example of an O(1) Operation: Checking if a Number is Even\n",
    "\n",
    "In this example, we will determine whether a number is even using the modulo operator `%`. The operation's complexity is **O(1)** because it involves a single calculation, regardless of the input size.\n",
    "\n",
    "### What We Expect:\n",
    "1. The time taken for the operation should remain constant, as it doesn't depend on the size of the number.\n",
    "2. This is a simple mathematical operation performed directly on the input.\n",
    "\n",
    "Let's test this with a single input size.\n"
   ]
  },
  {
   "cell_type": "markdown",
   "id": "54130a66-d721-4376-8945-3a14faf6082a",
   "metadata": {},
   "source": [
    "## Example of O(n): Summing All Elements in a List\n",
    "\n",
    "In this example, we will compute the sum of all elements in a list. This operation has **linear time complexity (O(n))** because:\n",
    "\n",
    "1. The operation involves visiting each element of the list exactly once.\n",
    "2. The time taken grows directly with the size of the input list.\n",
    "\n",
    "### What We Expect:\n",
    "1. The time taken to compute the sum should increase proportionally to the size of the list.\n",
    "2. With a single input size, the time will be measurable and reflect the relationship between input size and time taken.\n"
   ]
  },
  {
   "cell_type": "code",
   "execution_count": 9,
   "id": "385d8fc0-2ccd-42f6-bbf6-5bf2ff45e9ee",
   "metadata": {},
   "outputs": [
    {
     "name": "stdout",
     "output_type": "stream",
     "text": [
      "Total sum: 49999995000000\n",
      "Time taken for O(n) operation with input size 10000000: 0.2231295108795166 seconds\n"
     ]
    }
   ],
   "source": [
    "import time\n",
    "\n",
    "# Create a large list of 10 million elements\n",
    "large_list = list(range(10_000_000))\n",
    "\n",
    "# Measure time to compute the sum of all elements\n",
    "start_time = time.time()\n",
    "total_sum = sum(large_list)  # O(n) operation\n",
    "end_time = time.time()\n",
    "\n",
    "print(f\"Total sum: {total_sum}\")\n",
    "print(f\"Time taken for O(n) operation with input size {len(large_list)}: {end_time - start_time} seconds\")\n"
   ]
  },
  {
   "cell_type": "markdown",
   "id": "3841508c-208a-440b-be98-0f6a2e1b2c3f",
   "metadata": {},
   "source": [
    "## Why Does Summing a List Have O(n) Complexity?\n",
    "\n",
    "This operation has **linear time complexity (O(n))** because:\n",
    "\n",
    "### 1. Element-by-Element Processing:\n",
    "- The `sum()` function in Python iterates through each element of the list once.\n",
    "- The number of operations is directly proportional to the size of the list.\n",
    "\n",
    "### 2. No Skipping or Shortcuts:\n",
    "- Every element contributes to the final result, so the function cannot skip any elements.\n",
    "\n",
    "### 3. Scaling with Input:\n",
    "- If the list size doubles, the number of operations and the time taken also doubles.\n",
    "\n",
    "---\n",
    "\n",
    "### Observed Result:\n",
    "- The time measured for this operation increases with the size of the list, confirming the **O(n)** nature of the operation.\n",
    "\n",
    "### Key Takeaway:\n",
    "- Summing all elements in a list is a classic example of **linear time complexity (O(n))** because it requires visiting every element once, and the time taken scales linearly with the size of the input.\n"
   ]
  },
  {
   "cell_type": "markdown",
   "id": "165a4d23-5207-4eeb-b655-aefaa90d5d85",
   "metadata": {},
   "source": [
    "## Testing O(n) Complexity with Different Input Sizes\n",
    "\n",
    "In this experiment, we will compute the sum of all elements in lists of varying sizes to observe how the time taken scales with input size.\n",
    "\n",
    "### Steps:\n",
    "1. Create lists of different sizes: 1 million, 10 million, 50 million.\n",
    "2. Use the `sum()` function to compute the sum of each list.\n",
    "3. Measure the time taken for each operation.\n",
    "4. Compare the results to confirm the linear relationship between input size and time.\n",
    "\n",
    "### What We Expect:\n",
    "1. The time taken to compute the sum will increase linearly with the size of the list.\n",
    "2. Doubling the input size should approximately double the time taken.\n"
   ]
  },
  {
   "cell_type": "code",
   "execution_count": 10,
   "id": "a5fd483c-6850-47ac-9a18-1779894a7342",
   "metadata": {},
   "outputs": [
    {
     "name": "stdout",
     "output_type": "stream",
     "text": [
      "Input size: 1000000, Time taken: 0.019886 seconds, Total sum: 499999500000\n",
      "Input size: 10000000, Time taken: 0.223308 seconds, Total sum: 49999995000000\n",
      "Input size: 50000000, Time taken: 1.166606 seconds, Total sum: 1249999975000000\n"
     ]
    }
   ],
   "source": [
    "import time\n",
    "\n",
    "# Define different input sizes\n",
    "input_sizes = [1_000_000, 10_000_000, 50_000_000]\n",
    "times = []\n",
    "\n",
    "# Measure time to compute the sum for each input size\n",
    "for size in input_sizes:\n",
    "    large_list = list(range(size))\n",
    "    \n",
    "    # Time the O(n) operation\n",
    "    start_time = time.time()\n",
    "    total_sum = sum(large_list)\n",
    "    end_time = time.time()\n",
    "    \n",
    "    elapsed_time = end_time - start_time\n",
    "    times.append(elapsed_time)\n",
    "    \n",
    "    print(f\"Input size: {size}, Time taken: {elapsed_time:.6f} seconds, Total sum: {total_sum}\")\n"
   ]
  },
  {
   "cell_type": "markdown",
   "id": "0bc44c6a-8ee8-4fea-a3c5-3f551c105a28",
   "metadata": {},
   "source": [
    "## Observing Linear Relationship in O(n)\n",
    "\n",
    "### Observed Results:\n",
    "Here are the times measured for summing lists of different sizes:\n",
    "\n",
    "- **Input Size: 1,000,000** → **Time Taken: 0.019886 seconds**, **Total Sum: 499,999,500,000**\n",
    "- **Input Size: 10,000,000** → **Time Taken: 0.223308 seconds**, **Total Sum: 49,999,995,000,000**\n",
    "- **Input Size: 50,000,000** → **Time Taken: 1.166606 seconds**, **Total Sum: 1,249,999,975,000,000**\n",
    "\n",
    "---\n",
    "\n",
    "### Analysis of Results:\n",
    "1. **Proportional Time Growth**:\n",
    "   - When the input size increases by a factor of 10 (from 1 million to 10 million), the time taken increases by approximately the same factor (~0.02 to ~0.22 seconds).\n",
    "   - When the input size increases by a factor of 5 (from 10 million to 50 million), the time taken increases by approximately the same factor (~0.22 to ~1.16 seconds).\n",
    "\n",
    "2. **Linear Relationship**:\n",
    "   - The time taken grows directly with the input size, confirming the linear time complexity of **O(n)**.\n",
    "\n",
    "---\n",
    "\n",
    "### Why Is Summing a List O(n)?\n",
    "1. **Element-by-Element Processing**:\n",
    "   - The `sum()` function processes every element in the list exactly once.\n",
    "   - The total number of operations is directly proportional to the size of the input.\n",
    "\n",
    "2. **Scaling with Input**:\n",
    "   - Doubling or increasing the list size by any factor results in a proportional increase in time.\n",
    "\n",
    "---\n",
    "\n",
    "### Key Takeaway:\n",
    "The results align with the expected behavior of an O(n) operation:\n",
    "- The time taken to sum the elements in a list scales linearly with the size of the list.\n",
    "- This demonstrates the fundamental characteristic of linear time complexity, where the total work is proportional to the input size.\n"
   ]
  },
  {
   "cell_type": "code",
   "execution_count": 11,
   "id": "84e227b0-a7ab-494c-88ac-3a4b1c5fde6c",
   "metadata": {},
   "outputs": [
    {
     "data": {
      "image/png": "[encoded data removed]",
      "text/plain": [
       "<Figure size 576x360 with 1 Axes>"
      ]
     },
     "metadata": {
      "needs_background": "light"
     },
     "output_type": "display_data"
    }
   ],
   "source": [
    "import matplotlib.pyplot as plt\n",
    "\n",
    "# Input sizes and corresponding times\n",
    "input_sizes = [1_000_000, 10_000_000, 50_000_000]\n",
    "times = [0.019886, 0.223308, 1.166606]\n",
    "\n",
    "# Plot the results\n",
    "plt.figure(figsize=(8, 5))\n",
    "plt.plot(input_sizes, times, marker='o', linestyle='-', color='blue', label=\"Measured Time\")\n",
    "plt.title(\"Time for O(n) Operation (Sum of List) vs Input Size\")\n",
    "plt.xlabel(\"Input Size (Number of Elements)\")\n",
    "plt.ylabel(\"Time Taken (Seconds)\")\n",
    "plt.grid(True)\n",
    "plt.legend()\n",
    "plt.tight_layout()\n",
    "plt.show()\n"
   ]
  },
  {
   "cell_type": "markdown",
   "id": "5473ef4f-31cc-4485-af29-34ceeb0e373e",
   "metadata": {},
   "source": [
    "## Observing Linear Relationship in O(n) from the Plot\n",
    "\n",
    "### Analysis of the Plot:\n",
    "1. **Linear Growth**:\n",
    "   - The plot shows a clear linear relationship between the input size and the time taken for the operation.\n",
    "   - As the input size increases, the time grows proportionally.\n",
    "\n",
    "2. **Key Observations**:\n",
    "   - For smaller input sizes, the time taken is relatively low.\n",
    "   - Doubling the input size results in approximately double the time taken, confirming the linear complexity.\n",
    "\n",
    "3. **Confirmation of O(n)**:\n",
    "   - The straight-line trend in the plot aligns with the theoretical expectation for **O(n)** complexity.\n",
    "   - The sum operation iterates through each element in the list, which explains why the time grows directly with the number of elements.\n",
    "\n",
    "---\n",
    "\n",
    "### Key Takeaway:\n",
    "The plot visually confirms the **linear time complexity (O(n))** of summing a list. The operation requires visiting every element, and the time taken scales directly with the input size.\n"
   ]
  },
  {
   "cell_type": "markdown",
   "id": "5048558b-3caa-4207-8cff-07438353bf44",
   "metadata": {},
   "source": [
    "## Example of O(n²): Nested Loops for Pairwise Comparisons\n",
    "\n",
    "In this example, we will use **nested loops** to perform pairwise comparisons in a list. This operation has **quadratic time complexity (O(n²))** because:\n",
    "\n",
    "1. For each element in the list, we iterate through the entire list again, resulting in a total of \\( n \\times n = n^2 \\) operations.\n",
    "2. The time taken grows quadratically as the input size increases.\n",
    "\n",
    "---\n",
    "\n",
    "### What We Expect:\n",
    "1. The time taken for the operation will increase quadratically with the input size.\n",
    "2. Doubling the size of the input will approximately quadruple the time taken.\n",
    "\n",
    "Let’s test this with a single input size first.\n"
   ]
  },
  {
   "cell_type": "code",
   "execution_count": 12,
   "id": "87be5fcd-0129-40be-8f49-002f0d960c9f",
   "metadata": {},
   "outputs": [
    {
     "name": "stdout",
     "output_type": "stream",
     "text": [
      "Time taken for O(n²) operation with input size 1000: 0.084329 seconds\n"
     ]
    }
   ],
   "source": [
    "import time\n",
    "\n",
    "# Define a list of 1000 elements\n",
    "small_list = list(range(1000))\n",
    "\n",
    "# Measure time for nested loops (O(n²))\n",
    "start_time = time.time()\n",
    "for i in small_list:\n",
    "    for j in small_list:\n",
    "        _ = i + j  # Pairwise operation\n",
    "end_time = time.time()\n",
    "\n",
    "print(f\"Time taken for O(n²) operation with input size {len(small_list)}: {end_time - start_time:.6f} seconds\")\n"
   ]
  },
  {
   "cell_type": "markdown",
   "id": "f2cc995b-1665-4398-af8b-58e0c39b9610",
   "metadata": {},
   "source": [
    "# Understanding O(n²) Complexity: Nested Loops\n",
    "\n",
    "## Why Does This Operation Have O(n²) Complexity?\n",
    "\n",
    "### What Happens in the Code?\n",
    "The operation involves **nested loops** where the inner loop runs completely for each iteration of the outer loop:\n",
    "\n",
    "```python\n",
    "for i in small_list:       # Outer loop runs 'n' times\n",
    "    for j in small_list:   # Inner loop also runs 'n' times\n",
    "        _ = i + j          # Operation performed for each pair\n"
   ]
  },
  {
   "cell_type": "markdown",
   "id": "a622a3d8-2926-46cc-88ae-cc0ed8e56fdf",
   "metadata": {},
   "source": [
    "## Understanding the Complexity\n",
    "\n",
    "### Outer Loop:\n",
    "- The outer loop iterates through all elements in the list.\n",
    "- For a list of size \\( n \\), the outer loop runs \\( n \\) times.\n",
    "\n",
    "### Inner Loop:\n",
    "- For every single iteration of the outer loop, the inner loop iterates through all elements in the list.\n",
    "- This means the inner loop also runs \\( n \\) times for each iteration of the outer loop.\n",
    "\n",
    "### Total Iterations:\n",
    "- The total number of iterations is:\n",
    "  \\[\n",
    "  n \\times n = n^2\n",
    "  \\]\n",
    "\n",
    "For example:\n",
    "1. If the list has 10 elements, the total operations are:\n",
    "   \\[\n",
    "   10 \\times 10 = 100\n",
    "   \\]\n",
    "2. If the list has 1000 elements, the total operations are:\n",
    "   \\[\n",
    "   1000 \\times 1000 = 1,000,000\n",
    "   \\]\n",
    "\n",
    "---\n",
    "\n",
    "### Scaling with Input:\n",
    "- If the input size doubles, the total number of operations increases **fourfold**:\n",
    "  \\[\n",
    "  \\text{Total Operations} = n^2\n",
    "  \\]\n",
    "\n",
    "For example:\n",
    "- Doubling a list of size \\( n = 1000 \\) to \\( n = 2000 \\) results in:\n",
    "  \\[\n",
    "  1000^2 = 1,000,000 \\quad \\rightarrow \\quad 2000^2 = 4,000,000\n",
    "  \\]\n",
    "\n",
    "---\n",
    "\n",
    "## Why is O(n²) Significant?\n",
    "\n",
    "1. **Inefficiency for Large Inputs**:\n",
    "   - Quadratic complexity becomes inefficient very quickly as input size increases, especially for large datasets.\n",
    "\n",
    "2. **Real-Life Examples**:\n",
    "   - Many naive algorithms, such as comparing all pairs in a dataset, have O(n²) complexity.\n",
    "   - Examples include:\n",
    "     - **Pairwise Comparisons**: Checking all pairs of numbers.\n",
    "     - **Basic Sorting Algorithms**: Algorithms like Bubble Sort.\n"
   ]
  },
  {
   "cell_type": "code",
   "execution_count": 13,
   "id": "b843c2cc-d5e8-4eb4-9a98-f8e114ed781f",
   "metadata": {},
   "outputs": [
    {
     "name": "stdout",
     "output_type": "stream",
     "text": [
      "Input size: 100, Time taken: 0.000000 seconds\n",
      "Input size: 200, Time taken: 0.002990 seconds\n",
      "Input size: 300, Time taken: 0.005978 seconds\n",
      "Input size: 400, Time taken: 0.008969 seconds\n",
      "Input size: 500, Time taken: 0.016367 seconds\n"
     ]
    },
    {
     "data": {
      "image/png": "[encoded data removed]",
      "text/plain": [
       "<Figure size 576x360 with 1 Axes>"
      ]
     },
     "metadata": {
      "needs_background": "light"
     },
     "output_type": "display_data"
    }
   ],
   "source": [
    "import time\n",
    "import matplotlib.pyplot as plt\n",
    "\n",
    "# Define different input sizes for the O(n²) operation\n",
    "input_sizes = [100, 200, 300, 400, 500]\n",
    "times = []\n",
    "\n",
    "# Measure time for O(n²) operation for each input size\n",
    "for size in input_sizes:\n",
    "    small_list = list(range(size))\n",
    "    \n",
    "    # Time the nested loop operation\n",
    "    start_time = time.time()\n",
    "    for i in small_list:\n",
    "        for j in small_list:\n",
    "            _ = i + j  # Pairwise operation\n",
    "    end_time = time.time()\n",
    "    \n",
    "    elapsed_time = end_time - start_time\n",
    "    times.append(elapsed_time)\n",
    "    print(f\"Input size: {size}, Time taken: {elapsed_time:.6f} seconds\")\n",
    "\n",
    "# Plot the results\n",
    "plt.figure(figsize=(8, 5))\n",
    "plt.plot(input_sizes, times, marker='o', linestyle='-', color='blue', label=\"Measured Time\")\n",
    "plt.title(\"Time for O(n²) Operation vs Input Size\")\n",
    "plt.xlabel(\"Input Size (Number of Elements)\")\n",
    "plt.ylabel(\"Time Taken (Seconds)\")\n",
    "plt.grid(True)\n",
    "plt.legend()\n",
    "plt.tight_layout()\n",
    "plt.show()\n"
   ]
  },
  {
   "cell_type": "markdown",
   "id": "60f6f384-ff46-49b9-b0e0-b65fff8cfcd6",
   "metadata": {},
   "source": [
    "# Observing O(n²) Complexity: Nested Loops\n",
    "\n",
    "## Observed Results:\n",
    "Here are the measured times for performing an O(n²) operation (nested loops) with varying input sizes:\n",
    "\n",
    "- **Input Size: 100** → **Time Taken: 0.000000 seconds**\n",
    "- **Input Size: 200** → **Time Taken: 0.002990 seconds**\n",
    "- **Input Size: 300** → **Time Taken: 0.005978 seconds**\n",
    "- **Input Size: 400** → **Time Taken: 0.008969 seconds**\n",
    "- **Input Size: 500** → **Time Taken: 0.016367 seconds**\n",
    "\n",
    "---\n",
    "\n",
    "## Analysis of the Results:\n",
    "\n",
    "### 1. Quadratic Growth:\n",
    "- The time taken increases quadratically with the input size. \n",
    "- For example:\n",
    "  - Doubling the input size from 200 to 400 roughly quadruples the time taken (from ~0.003 seconds to ~0.009 seconds).\n",
    "  - Similarly, increasing the input size from 100 to 500 results in approximately a 16x increase in time taken.\n",
    "\n",
    "### 2. Total Operations:\n",
    "- The nested loops perform \\( n^2 \\) operations for a list of size \\( n \\). For each input size:\n",
    "  - Input size 100: \\( 100 \\times 100 = 10,000 \\) operations.\n",
    "  - Input size 200: \\( 200 \\times 200 = 40,000 \\) operations.\n",
    "  - Input size 500: \\( 500 \\times 500 = 250,000 \\) operations.\n",
    "- The measured times align with the theoretical quadratic growth.\n",
    "\n",
    "---\n",
    "\n",
    "## Why Does This Confirm O(n²)?\n",
    "\n",
    "1. **Nested Iteration**:\n",
    "   - Each element in the outer loop is paired with every element in the inner loop, resulting in \\( n^2 \\) operations.\n",
    "\n",
    "2. **Scaling with Input**:\n",
    "   - Doubling the input size multiplies the total operations by four, leading to a corresponding increase in time taken.\n",
    "\n",
    "---\n",
    "\n",
    "## Key Takeaway:\n",
    "The results confirm the **quadratic time complexity (O(n²))** of the nested loop operation. The time taken scales quadratically with the input size, demonstrating the inefficiency of O(n²) algorithms for large datasets.\n"
   ]
  },
  {
   "cell_type": "code",
   "execution_count": null,
   "id": "5275ba6c-ba5a-4ff7-9045-48f970c5d53c",
   "metadata": {},
   "outputs": [],
   "source": []
  }
 ],
 "metadata": {
  "kernelspec": {
   "display_name": "Python 3 (ipykernel)",
   "language": "python",
   "name": "python3"
  },
  "language_info": {
   "codemirror_mode": {
    "name": "ipython",
    "version": 3
   },
   "file_extension": ".py",
   "mimetype": "text/x-python",
   "name": "python",
   "nbconvert_exporter": "python",
   "pygments_lexer": "ipython3",
   "version": "3.9.7"
  }
 },
 "nbformat": 4,
 "nbformat_minor": 5
}
