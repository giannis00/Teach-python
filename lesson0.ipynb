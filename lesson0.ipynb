{
 "cells": [
  {
   "cell_type": "markdown",
   "id": "23433bbe-03da-4ac0-b29c-14313e56b8c9",
   "metadata": {},
   "source": [
    "**Introduction to Python with a simple print statement**"
   ]
  },
  {
   "cell_type": "code",
   "execution_count": 1,
   "id": "69faacd1-9630-4de6-9fe8-47e5297d0b56",
   "metadata": {},
   "outputs": [
    {
     "name": "stdout",
     "output_type": "stream",
     "text": [
      "Hello, World!\n"
     ]
    }
   ],
   "source": [
    "# First Python program: \"Hello, World!\"\n",
    "print(\"Hello, World!\")\n"
   ]
  },
  {
   "cell_type": "code",
   "execution_count": 28,
   "id": "a3e652fc-c117-45b0-96b7-77d77afff9a5",
   "metadata": {},
   "outputs": [
    {
     "data": {
      "text/plain": [
       "int"
      ]
     },
     "execution_count": 28,
     "metadata": {},
     "output_type": "execute_result"
    }
   ],
   "source": [
    "type(10)"
   ]
  },
  {
   "cell_type": "code",
   "execution_count": 29,
   "id": "4fa489e4-6334-4a17-a529-dc51a539b0c3",
   "metadata": {},
   "outputs": [
    {
     "data": {
      "text/plain": [
       "float"
      ]
     },
     "execution_count": 29,
     "metadata": {},
     "output_type": "execute_result"
    }
   ],
   "source": [
    "type(10.5)"
   ]
  },
  {
   "cell_type": "code",
   "execution_count": 30,
   "id": "d94d6711-d686-447c-beec-444c61ff9359",
   "metadata": {},
   "outputs": [
    {
     "data": {
      "text/plain": [
       "bool"
      ]
     },
     "execution_count": 30,
     "metadata": {},
     "output_type": "execute_result"
    }
   ],
   "source": [
    "type(True)"
   ]
  },
  {
   "cell_type": "code",
   "execution_count": 31,
   "id": "e4fa38a5-1c4c-465e-95c0-c00d17ee5031",
   "metadata": {},
   "outputs": [
    {
     "data": {
      "text/plain": [
       "str"
      ]
     },
     "execution_count": 31,
     "metadata": {},
     "output_type": "execute_result"
    }
   ],
   "source": [
    "type(\"Hello, World!\")"
   ]
  },
  {
   "cell_type": "code",
   "execution_count": 26,
   "id": "5ee3504d-aaab-44f3-a53e-a8939e2ccfd5",
   "metadata": {},
   "outputs": [
    {
     "name": "stdout",
     "output_type": "stream",
     "text": [
      "30\n"
     ]
    }
   ],
   "source": [
    "x = 25\n",
    "x = x + 5  # Add 5 to the current value of x\n",
    "print(x)\n"
   ]
  },
  {
   "cell_type": "markdown",
   "id": "918d2bd2-64b6-4cd9-b689-23f215a312ba",
   "metadata": {},
   "source": [
    "**Introducing Variables and Types**"
   ]
  },
  {
   "cell_type": "code",
   "execution_count": 4,
   "id": "78fb58e9-6c79-429e-bd51-630223cf8a2e",
   "metadata": {},
   "outputs": [
    {
     "name": "stdout",
     "output_type": "stream",
     "text": [
      "Name: John\n",
      "Age: 25\n"
     ]
    }
   ],
   "source": [
    "# Defining variables\n",
    "name = \"John\"  # 'name' is a string variable\n",
    "age = 25  # 'age' is an integer variable\n",
    "\n",
    "# Displaying variables\n",
    "# Variables store values, and we can display them using the print function.\n",
    "print(\"Name:\", name)\n",
    "print(\"Age:\", age)\n"
   ]
  },
  {
   "cell_type": "code",
   "execution_count": 5,
   "id": "26312f00-8468-42ce-910b-5e588bf768b0",
   "metadata": {},
   "outputs": [
    {
     "name": "stdout",
     "output_type": "stream",
     "text": [
      "<class 'str'>\n",
      "<class 'int'>\n"
     ]
    }
   ],
   "source": [
    "# Checking the type of variables\n",
    "# type() is used to check the type of a variable.\n",
    "print(type(name))  # This will output: <class 'str'> because 'name' is a string\n",
    "print(type(age))   # This will output: <class 'int'> because 'age' is an integer\n"
   ]
  },
  {
   "cell_type": "code",
   "execution_count": 6,
   "id": "e75b464d-3853-4ab8-a52d-8ddcc8a2f497",
   "metadata": {},
   "outputs": [
    {
     "name": "stdout",
     "output_type": "stream",
     "text": [
      "Addition: 15\n",
      "Multiplication: 50\n"
     ]
    }
   ],
   "source": [
    "# Simple arithmetic\n",
    "x = 5  # 'x' is an integer\n",
    "y = 10  # 'y' is an integer\n",
    "\n",
    "# Addition\n",
    "# Python can be used to perform basic arithmetic operations, like addition.\n",
    "result = x + y\n",
    "print(\"Addition:\", result)  # This will output the result of x + y\n",
    "\n",
    "# Multiplication\n",
    "# Another example: multiplication\n",
    "result = x * y\n",
    "print(\"Multiplication:\", result)  # This will output the result of x * y\n"
   ]
  },
  {
   "cell_type": "code",
   "execution_count": 7,
   "id": "3d53059f-eda2-4d5d-8fa2-9d0033ed3c5c",
   "metadata": {},
   "outputs": [
    {
     "name": "stdin",
     "output_type": "stream",
     "text": [
      "What is your name?  Giannis\n"
     ]
    },
    {
     "name": "stdout",
     "output_type": "stream",
     "text": [
      "Hello, Giannis!\n"
     ]
    }
   ],
   "source": [
    "# Getting input from the user\n",
    "# input() allows the user to type something, which Python can use in the program.\n",
    "# The input will be taken as a string.\n",
    "user_name = input(\"What is your name? \")  # Ask the user to input their name\n",
    "print(\"Hello, \" + user_name + \"!\")  # Concatenate the user's input with a greeting\n"
   ]
  },
  {
   "cell_type": "code",
   "execution_count": 9,
   "id": "54750592-65a9-438c-9280-394301d51467",
   "metadata": {},
   "outputs": [
    {
     "name": "stdout",
     "output_type": "stream",
     "text": [
      "Hello, World!\n",
      "Age: 25\n",
      "Height: 190\n",
      "Is student: True\n"
     ]
    }
   ],
   "source": [
    "# Demonstrating different basic data types\n",
    "\n",
    "# String (text)\n",
    "greeting = \"Hello, World!\"  # A string is a sequence of characters\n",
    "print(greeting)\n",
    "\n",
    "# Integer (whole number)\n",
    "age = 25  # An integer is a whole number without a decimal point\n",
    "print(\"Age:\", age)\n",
    "\n",
    "# Float (decimal number)\n",
    "height = 190  # A float is a number that includes a decimal point\n",
    "print(\"Height:\", height)\n",
    "\n",
    "# Boolean (True or False)\n",
    "is_student = True  # A boolean can only be True or False\n",
    "print(\"Is student:\", is_student)\n"
   ]
  },
  {
   "cell_type": "markdown",
   "id": "905775f0-d5c3-4339-82cc-2aabdead0a36",
   "metadata": {},
   "source": [
    "**Combining Different Data Types in Print**"
   ]
  },
  {
   "cell_type": "code",
   "execution_count": 14,
   "id": "0fbb3f7c-8b69-4ae0-b713-68d75154a358",
   "metadata": {},
   "outputs": [
    {
     "name": "stdout",
     "output_type": "stream",
     "text": [
      "Name: John Age: 30\n",
      "Name: John, Age: 30\n"
     ]
    }
   ],
   "source": [
    "# Combining text and numbers in a print statement\n",
    "name = \"John\"\n",
    "age = 30\n",
    "\n",
    "# Using commas to combine different data types in a print function\n",
    "print(\"Name:\", name, \"Age:\", age)\n",
    "\n",
    "# Using the + operator to concatenate strings (only works with strings)\n",
    "# Need to convert numbers to strings for this to work\n",
    "print(\"Name: \" + name + \", Age: \" + str(age))\n"
   ]
  },
  {
   "cell_type": "code",
   "execution_count": 15,
   "id": "ebc4b188-bbef-486c-b904-41c0689fee86",
   "metadata": {},
   "outputs": [
    {
     "name": "stdin",
     "output_type": "stream",
     "text": [
      "What is your favorite color?  red\n"
     ]
    },
    {
     "name": "stdout",
     "output_type": "stream",
     "text": [
      "Your favorite color is red\n"
     ]
    }
   ],
   "source": [
    "# Simple user input and output\n",
    "# input() allows the user to type something, which Python can use in the program.\n",
    "\n",
    "favorite_color = input(\"What is your favorite color? \")  # User inputs their favorite color\n",
    "print(\"Your favorite color is\", favorite_color)  # Output the user's input\n"
   ]
  },
  {
   "cell_type": "code",
   "execution_count": 16,
   "id": "324b328a-c696-485e-a487-d75c25db7fec",
   "metadata": {},
   "outputs": [
    {
     "name": "stdout",
     "output_type": "stream",
     "text": [
      "First fruit: apple\n",
      "Second fruit: banana\n",
      "Third fruit: cherry\n",
      "Updated list of fruits: ['apple', 'banana', 'cherry', 'orange']\n"
     ]
    }
   ],
   "source": [
    "# Lists store multiple items in a single variable\n",
    "# Here's a list of favorite fruits\n",
    "\n",
    "favorite_fruits = [\"apple\", \"banana\", \"cherry\"]\n",
    "\n",
    "# Accessing individual elements in the list using their index\n",
    "# Remember: Indexing starts from 0\n",
    "first_fruit = favorite_fruits[0]\n",
    "second_fruit = favorite_fruits[1]\n",
    "third_fruit = favorite_fruits[2]\n",
    "\n",
    "print(\"First fruit:\", first_fruit)\n",
    "print(\"Second fruit:\", second_fruit)\n",
    "print(\"Third fruit:\", third_fruit)\n",
    "\n",
    "# Adding an item to the list\n",
    "favorite_fruits.append(\"orange\")  # Adding a new fruit to the list\n",
    "print(\"Updated list of fruits:\", favorite_fruits)\n"
   ]
  },
  {
   "cell_type": "code",
   "execution_count": 20,
   "id": "3f593cb4-0031-4818-9f13-59e3dc6ba2c5",
   "metadata": {},
   "outputs": [
    {
     "data": {
      "text/plain": [
       "10"
      ]
     },
     "execution_count": 20,
     "metadata": {},
     "output_type": "execute_result"
    }
   ],
   "source": [
    "numbers = [ 10, 80, 30, 0, 2]\n",
    "\n",
    "numbers[0]\n"
   ]
  },
  {
   "cell_type": "code",
   "execution_count": 21,
   "id": "560da5bb-b4bb-464f-a47b-a0c97265d38c",
   "metadata": {},
   "outputs": [
    {
     "data": {
      "text/plain": [
       "'a'"
      ]
     },
     "execution_count": 21,
     "metadata": {},
     "output_type": "execute_result"
    }
   ],
   "source": [
    "list = [\"a\", 10, 80, 30, 0, 2]\n",
    "\n",
    "list[0]"
   ]
  },
  {
   "cell_type": "code",
   "execution_count": 17,
   "id": "9070cfef-3ecd-4bd9-9ae2-ecb8ee627af5",
   "metadata": {},
   "outputs": [
    {
     "name": "stdout",
     "output_type": "stream",
     "text": [
      "Difference: 7\n",
      "Division result: 3.3333333333333335\n",
      "Remainder when dividing a by b: 1\n"
     ]
    }
   ],
   "source": [
    "# More arithmetic operations: subtraction, division, and modulus\n",
    "\n",
    "a = 10\n",
    "b = 3\n",
    "\n",
    "# Subtraction\n",
    "difference = a - b\n",
    "print(\"Difference:\", difference)\n",
    "\n",
    "# Division\n",
    "division_result = a / b  # This will give a float result\n",
    "print(\"Division result:\", division_result)\n",
    "\n",
    "# Modulus: remainder of division\n",
    "remainder = a % b\n",
    "print(\"Remainder when dividing a by b:\", remainder)\n"
   ]
  },
  {
   "cell_type": "markdown",
   "id": "be372967-0ff0-413c-b9ca-f069f8ce75e7",
   "metadata": {},
   "source": [
    "**Combining and Repeating Lists**"
   ]
  },
  {
   "cell_type": "code",
   "execution_count": 22,
   "id": "bf3a8ed5-6736-4508-b9c4-a9d5ebd07b33",
   "metadata": {},
   "outputs": [
    {
     "name": "stdout",
     "output_type": "stream",
     "text": [
      "Combined list: [1, 2, 3, 4, 5, 6]\n",
      "Repeated list: [1, 2, 3, 1, 2, 3, 1, 2, 3]\n"
     ]
    }
   ],
   "source": [
    "# You can combine two lists together and repeat lists\n",
    "\n",
    "# Creating two lists\n",
    "list_a = [1, 2, 3]\n",
    "list_b = [4, 5, 6]\n",
    "\n",
    "# Combining lists using +\n",
    "combined_list = list_a + list_b\n",
    "print(\"Combined list:\", combined_list)\n",
    "\n",
    "# Repeating a list\n",
    "repeated_list = list_a * 3  # Repeating the list 3 times\n",
    "print(\"Repeated list:\", repeated_list)\n"
   ]
  },
  {
   "cell_type": "markdown",
   "id": "c03f8e23-22a2-4396-ae69-46e5eaf807ad",
   "metadata": {},
   "source": [
    "**Working with the None Type**"
   ]
  },
  {
   "cell_type": "code",
   "execution_count": 23,
   "id": "2668da44-947c-41b2-8b60-6dc833abd98a",
   "metadata": {},
   "outputs": [
    {
     "name": "stdout",
     "output_type": "stream",
     "text": [
      "Empty value: None\n",
      "Is the variable None? True\n"
     ]
    }
   ],
   "source": [
    "# The None type represents the absence of a value\n",
    "\n",
    "# A variable with no value assigned yet\n",
    "empty_value = None\n",
    "\n",
    "# Printing None\n",
    "print(\"Empty value:\", empty_value)\n",
    "\n",
    "# Checking if a variable is None\n",
    "print(\"Is the variable None?\", empty_value is None)\n"
   ]
  },
  {
   "cell_type": "markdown",
   "id": "9c12bd36-ad00-47dd-9407-98dbce76fc7f",
   "metadata": {},
   "source": [
    "**More List Methods**"
   ]
  },
  {
   "cell_type": "code",
   "execution_count": 24,
   "id": "d38b2042-b09a-4d5a-874b-8fc774dc0dfb",
   "metadata": {},
   "outputs": [
    {
     "name": "stdout",
     "output_type": "stream",
     "text": [
      "List after appending yellow: ['red', 'blue', 'green', 'yellow']\n",
      "List after inserting purple at index 1: ['red', 'purple', 'blue', 'green', 'yellow']\n",
      "List after removing blue: ['red', 'purple', 'green', 'yellow']\n",
      "Sorted list of colors: ['green', 'purple', 'red', 'yellow']\n"
     ]
    }
   ],
   "source": [
    "# More methods for working with lists\n",
    "\n",
    "# Creating a list of colors\n",
    "colors = [\"red\", \"blue\", \"green\"]\n",
    "\n",
    "# Adding an element to the end of the list\n",
    "colors.append(\"yellow\")\n",
    "print(\"List after appending yellow:\", colors)\n",
    "\n",
    "# Inserting an element at a specific index\n",
    "colors.insert(1, \"purple\")  # Insert \"purple\" at index 1\n",
    "print(\"List after inserting purple at index 1:\", colors)\n",
    "\n",
    "# Removing an element from the list\n",
    "colors.remove(\"blue\")  # Removes the first occurrence of \"blue\"\n",
    "print(\"List after removing blue:\", colors)\n",
    "\n",
    "# Sorting the list alphabetically\n",
    "colors.sort()\n",
    "print(\"Sorted list of colors:\", colors)\n"
   ]
  },
  {
   "cell_type": "code",
   "execution_count": null,
   "id": "0b22874f-d6a0-43fa-8b25-c0da5a042199",
   "metadata": {},
   "outputs": [],
   "source": []
  }
 ],
 "metadata": {
  "kernelspec": {
   "display_name": "Python 3 (ipykernel)",
   "language": "python",
   "name": "python3"
  },
  "language_info": {
   "codemirror_mode": {
    "name": "ipython",
    "version": 3
   },
   "file_extension": ".py",
   "mimetype": "text/x-python",
   "name": "python",
   "nbconvert_exporter": "python",
   "pygments_lexer": "ipython3",
   "version": "3.9.7"
  }
 },
 "nbformat": 4,
 "nbformat_minor": 5
}
