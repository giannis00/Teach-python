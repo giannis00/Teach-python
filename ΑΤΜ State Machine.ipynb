{
 "cells": [
  {
   "cell_type": "code",
   "execution_count": 3,
   "id": "b2a82325-ea4c-474c-849f-5197777aa32f",
   "metadata": {},
   "outputs": [
    {
     "name": "stdout",
     "output_type": "stream",
     "text": [
      "💳 Παρακαλώ τοποθετήστε την κάρτα σας.\n"
     ]
    },
    {
     "name": "stdin",
     "output_type": "stream",
     "text": [
      "Πληκτρολόγησε 'insert' ή 'exit':  insert\n",
      "Εισάγετε PIN:  1234\n"
     ]
    },
    {
     "name": "stdout",
     "output_type": "stream",
     "text": [
      "\n",
      "Επιλέξτε ενέργεια:\n",
      "1. Ανάληψη\n",
      "2. Υπόλοιπο\n",
      "3. Έξοδος\n"
     ]
    },
    {
     "name": "stdin",
     "output_type": "stream",
     "text": [
      "Επιλογή:  Ανάληψη\n"
     ]
    },
    {
     "name": "stdout",
     "output_type": "stream",
     "text": [
      "Μη έγκυρη επιλογή!\n",
      "\n",
      "Επιλέξτε ενέργεια:\n",
      "1. Ανάληψη\n",
      "2. Υπόλοιπο\n",
      "3. Έξοδος\n"
     ]
    },
    {
     "name": "stdin",
     "output_type": "stream",
     "text": [
      "Επιλογή:  1\n",
      "Πόσα χρήματα θέλετε να κάνετε ανάληψη;  2000\n"
     ]
    },
    {
     "name": "stdout",
     "output_type": "stream",
     "text": [
      "Μη επαρκές υπόλοιπο!\n",
      "💳 Παρακαλώ πάρτε την κάρτα σας.\n"
     ]
    },
    {
     "name": "stdin",
     "output_type": "stream",
     "text": [
      "Θέλετε νέα συναλλαγή; (ν/ο):  ν\n"
     ]
    },
    {
     "name": "stdout",
     "output_type": "stream",
     "text": [
      "💳 Παρακαλώ τοποθετήστε την κάρτα σας.\n"
     ]
    },
    {
     "name": "stdin",
     "output_type": "stream",
     "text": [
      "Πληκτρολόγησε 'insert' ή 'exit':  insert\n",
      "Εισάγετε PIN:  1234\n"
     ]
    },
    {
     "name": "stdout",
     "output_type": "stream",
     "text": [
      "\n",
      "Επιλέξτε ενέργεια:\n",
      "1. Ανάληψη\n",
      "2. Υπόλοιπο\n",
      "3. Έξοδος\n"
     ]
    },
    {
     "name": "stdin",
     "output_type": "stream",
     "text": [
      "Επιλογή:  1\n",
      "Πόσα χρήματα θέλετε να κάνετε ανάληψη;  500\n"
     ]
    },
    {
     "name": "stdout",
     "output_type": "stream",
     "text": [
      "Ανάληψη 500€ επιτυχής. Υπόλοιπο: 500€\n",
      "💳 Παρακαλώ πάρτε την κάρτα σας.\n"
     ]
    },
    {
     "name": "stdin",
     "output_type": "stream",
     "text": [
      "Θέλετε νέα συναλλαγή; (ν/ο):  ο\n"
     ]
    },
    {
     "name": "stdout",
     "output_type": "stream",
     "text": [
      "Ευχαριστούμε! Καλό σας βράδυ.\n"
     ]
    }
   ],
   "source": [
    "# ATM με μηχανή καταστάσεων (State Machine)\n",
    "\n",
    "current_state = \"INSERT_CARD\"\n",
    "pin_correct = False\n",
    "balance = 1000  # αρχικό υπόλοιπο\n",
    "\n",
    "while True:\n",
    "    if current_state == \"INSERT_CARD\":\n",
    "        print(\"💳 Παρακαλώ τοποθετήστε την κάρτα σας.\")\n",
    "        action = input(\"Πληκτρολόγησε 'insert' ή 'exit': \")\n",
    "\n",
    "        if action.lower() == \"insert\":\n",
    "            current_state = \"ENTER_PIN\"\n",
    "        elif action.lower() == \"exit\":\n",
    "            print(\"Αντίο!\")\n",
    "            break\n",
    "        else:\n",
    "            print(\"Μη έγκυρη επιλογή!\")\n",
    "\n",
    "    elif current_state == \"ENTER_PIN\":\n",
    "        pin = input(\"Εισάγετε PIN: \")\n",
    "        if pin == \"1234\":\n",
    "            pin_correct = True\n",
    "            current_state = \"SELECT_ACTION\"\n",
    "        else:\n",
    "            print(\"Λάθος PIN! Προσπαθήστε ξανά.\")\n",
    "            current_state = \"INSERT_CARD\"\n",
    "\n",
    "    elif current_state == \"SELECT_ACTION\":\n",
    "        print(\"\\nΕπιλέξτε ενέργεια:\")\n",
    "        print(\"1. Ανάληψη\")\n",
    "        print(\"2. Υπόλοιπο\")\n",
    "        print(\"3. Έξοδος\")\n",
    "        choice = input(\"Επιλογή: \")\n",
    "\n",
    "        if choice == \"1\":\n",
    "            current_state = \"WITHDRAW\"\n",
    "        elif choice == \"2\":\n",
    "            current_state = \"BALANCE\"\n",
    "        elif choice == \"3\":\n",
    "            current_state = \"EJECT_CARD\"\n",
    "        else:\n",
    "            print(\"Μη έγκυρη επιλογή!\")\n",
    "\n",
    "    elif current_state == \"WITHDRAW\":\n",
    "        amount = input(\"Πόσα χρήματα θέλετε να κάνετε ανάληψη; \")\n",
    "        if not amount.isdigit():\n",
    "            print(\"Δώστε έγκυρο ποσό.\")\n",
    "            current_state = \"SELECT_ACTION\"\n",
    "            continue\n",
    "\n",
    "        amount = int(amount)\n",
    "        if amount > balance:\n",
    "            print(\"Μη επαρκές υπόλοιπο!\")\n",
    "        else:\n",
    "            balance -= amount\n",
    "            print(f\"Ανάληψη {amount}€ επιτυχής. Υπόλοιπο: {balance}€\")\n",
    "\n",
    "        current_state = \"EJECT_CARD\"\n",
    "\n",
    "    elif current_state == \"BALANCE\":\n",
    "        print(f\"Το υπόλοιπό σας είναι {balance}€.\")\n",
    "        current_state = \"EJECT_CARD\"\n",
    "\n",
    "    elif current_state == \"EJECT_CARD\":\n",
    "        print(\"💳 Παρακαλώ πάρτε την κάρτα σας.\")\n",
    "        again = input(\"Θέλετε νέα συναλλαγή; (ν/ο): \")\n",
    "        if again.lower() == \"ν\":\n",
    "            current_state = \"INSERT_CARD\"\n",
    "        else:\n",
    "            print(\"Ευχαριστούμε! Καλό σας βράδυ.\")\n",
    "            break\n"
   ]
  },
  {
   "cell_type": "code",
   "execution_count": null,
   "id": "ebff5e3b-9b98-4a1b-a29d-4b65a6bd8055",
   "metadata": {},
   "outputs": [],
   "source": []
  }
 ],
 "metadata": {
  "kernelspec": {
   "display_name": "Python 3 (ipykernel)",
   "language": "python",
   "name": "python3"
  },
  "language_info": {
   "codemirror_mode": {
    "name": "ipython",
    "version": 3
   },
   "file_extension": ".py",
   "mimetype": "text/x-python",
   "name": "python",
   "nbconvert_exporter": "python",
   "pygments_lexer": "ipython3",
   "version": "3.9.7"
  }
 },
 "nbformat": 4,
 "nbformat_minor": 5
}
