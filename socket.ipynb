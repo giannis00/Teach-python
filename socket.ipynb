{
 "cells": [
  {
   "cell_type": "code",
   "execution_count": null,
   "id": "e26ea679-881d-41fe-b069-5154aeab9c4b",
   "metadata": {},
   "outputs": [
    {
     "name": "stdout",
     "output_type": "stream",
     "text": [
      "Ο server ακούει στη θύρα 12345...\n"
     ]
    }
   ],
   "source": [
    "import socket\n",
    "import random\n",
    "\n",
    "# Δημιουργία socket για τον server\n",
    "server_socket = socket.socket(socket.AF_INET, socket.SOCK_STREAM)\n",
    "\n",
    "# Σύνδεση στη θύρα 12345\n",
    "server_socket.bind(('localhost', 12345))\n",
    "server_socket.listen(1)\n",
    "\n",
    "print(\"Ο server ακούει στη θύρα 12345...\")\n",
    "\n",
    "# Περιμένουμε τον client να συνδεθεί\n",
    "client_socket, addr = server_socket.accept()\n",
    "print(f\"Σύνδεση από {addr}\")\n",
    "\n",
    "# Ο server επιλέγει έναν τυχαίο αριθμό\n",
    "target_number = random.randint(1, 100)\n",
    "print(f\"Ο σωστός αριθμός είναι: {target_number}\")\n",
    "\n",
    "# Ξεκινάμε το παιχνίδι\n",
    "while True:\n",
    "    # Λήψη της εικασίας από τον client\n",
    "    data = client_socket.recv(1024).decode('utf-8')\n",
    "    print(f\"Ο client έστειλε: {data}\")\n",
    "\n",
    "    if data == \"*#0#*\":\n",
    "        print(\"Λήφθηκε η εντολή εξόδου. Κλείσιμο σύνδεσης.\")\n",
    "        break\n",
    "    \n",
    "    # Μετατροπή της εισόδου του client σε ακέραιο αριθμό\n",
    "    guess = int(data)\n",
    "\n",
    "    # Έλεγχος της εικασίας\n",
    "    if guess < target_number:\n",
    "        client_socket.send(\"Ο αριθμός σου είναι μικρότερος.\".encode('utf-8'))\n",
    "    elif guess > target_number:\n",
    "        client_socket.send(\"Ο αριθμός σου είναι μεγαλύτερος.\".encode('utf-8'))\n",
    "    else:\n",
    "        client_socket.send(\"Σωστά! Βρήκες τον αριθμό.\".encode('utf-8'))\n",
    "        break\n",
    "\n",
    "client_socket.close()  # Κλείνουμε τη σύνδεση με τον client\n",
    "server_socket.close()  # Κλείνουμε το socket του server\n"
   ]
  },
  {
   "cell_type": "code",
   "execution_count": null,
   "id": "fc5f6608-616b-4edc-8864-aa5c5afbd5a0",
   "metadata": {},
   "outputs": [],
   "source": [
    "import socket\n",
    "\n",
    "# Δημιουργία socket για τον client\n",
    "client_socket = socket.socket(socket.AF_INET, socket.SOCK_STREAM)\n",
    "\n",
    "# Σύνδεση στον server\n",
    "client_socket.connect(('localhost', 12345))\n",
    "\n",
    "print(\"Συνδέθηκες στον server! Προσπάθησε να μαντέψεις τον αριθμό.\")\n",
    "\n",
    "# Ατελείωτος βρόχος για να μαντέψουμε τον αριθμό\n",
    "while True:\n",
    "    # Ο χρήστης εισάγει την εικασία του ή εντολή εξόδου\n",
    "    message = input(\"Δώσε έναν αριθμό από το 1 έως το 100 (ή *#0#* για έξοδο): \")\n",
    "    client_socket.send(message.encode('utf-8'))\n",
    "    \n",
    "    if message == \"*#0#*\":\n",
    "        print(\"Κλείσιμο σύνδεσης.\")\n",
    "        break\n",
    "\n",
    "    # Λήψη απάντησης από τον server\n",
    "    response = client_socket.recv(1024).decode('utf-8')\n",
    "    print(f\"Απάντηση από τον server: {response}\")\n",
    "\n",
    "    # Έλεγχος αν ο χρήστης βρήκε τον αριθμό\n",
    "    if response == \"Σωστά! Βρήκες τον αριθμό.\":\n",
    "        print(\"Συγχαρητήρια! Το παιχνίδι τελείωσε.\")\n",
    "        break\n",
    "\n",
    "client_socket.close()  # Κλείνουμε το socket του client\n"
   ]
  },
  {
   "cell_type": "code",
   "execution_count": null,
   "id": "f2f9aee5-2356-4b65-b032-5f77b3928242",
   "metadata": {},
   "outputs": [],
   "source": []
  }
 ],
 "metadata": {
  "kernelspec": {
   "display_name": "Python 3 (ipykernel)",
   "language": "python",
   "name": "python3"
  },
  "language_info": {
   "codemirror_mode": {
    "name": "ipython",
    "version": 3
   },
   "file_extension": ".py",
   "mimetype": "text/x-python",
   "name": "python",
   "nbconvert_exporter": "python",
   "pygments_lexer": "ipython3",
   "version": "3.9.7"
  }
 },
 "nbformat": 4,
 "nbformat_minor": 5
}
