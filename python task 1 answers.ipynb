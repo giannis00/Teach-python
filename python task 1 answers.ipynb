{
 "cells": [
  {
   "cell_type": "code",
   "execution_count": 1,
   "id": "fb64be28-09fd-4772-86c1-ccbb31e26f04",
   "metadata": {},
   "outputs": [
    {
     "name": "stdout",
     "output_type": "stream",
     "text": [
      "Your Name\n",
      "Your Age\n",
      "Your Favorite Hobby\n"
     ]
    }
   ],
   "source": [
    "# Print your name, age, and favorite hobby\n",
    "print(\"Your Name\")\n",
    "print(\"Your Age\")\n",
    "print(\"Your Favorite Hobby\")\n"
   ]
  },
  {
   "cell_type": "code",
   "execution_count": 2,
   "id": "ca7e67bd-e749-4d7e-8c94-3cef99a304c9",
   "metadata": {},
   "outputs": [
    {
     "name": "stdout",
     "output_type": "stream",
     "text": [
      "Inception 25 1.75\n"
     ]
    }
   ],
   "source": [
    "# Variables for favorite movie, age, and height\n",
    "favorite_movie = \"Inception\"\n",
    "age = 25\n",
    "height = 1.75  # height in meters\n",
    "\n",
    "# Print the variables (optional)\n",
    "print(favorite_movie, age, height)\n"
   ]
  },
  {
   "cell_type": "code",
   "execution_count": 3,
   "id": "fe580fa0-402a-44b6-9fbb-700aa856e09f",
   "metadata": {},
   "outputs": [
    {
     "name": "stdout",
     "output_type": "stream",
     "text": [
      "Addition: 19\n",
      "Subtraction: 11\n",
      "Multiplication: 60\n",
      "Division: 3.75\n",
      "Modulus: 3\n"
     ]
    }
   ],
   "source": [
    "x = 15\n",
    "y = 4\n",
    "\n",
    "# Perform arithmetic operations\n",
    "print(\"Addition:\", x + y)\n",
    "print(\"Subtraction:\", x - y)\n",
    "print(\"Multiplication:\", x * y)\n",
    "print(\"Division:\", x / y)\n",
    "print(\"Modulus:\", x % y)\n"
   ]
  },
  {
   "cell_type": "code",
   "execution_count": 4,
   "id": "b38c3445-4ea6-4b1c-9ff3-c0a0be25168b",
   "metadata": {},
   "outputs": [
    {
     "name": "stdout",
     "output_type": "stream",
     "text": [
      "Second favorite food: Burger\n",
      "['Pizza', 'Burger', 'Pasta', 'Sushi']\n"
     ]
    }
   ],
   "source": [
    "# List of top 3 favorite foods\n",
    "favorite_foods = [\"Pizza\", \"Burger\", \"Pasta\"]\n",
    "\n",
    "# Print the second food in the list\n",
    "print(\"Second favorite food:\", favorite_foods[1])\n",
    "\n",
    "# Add another food to the list\n",
    "favorite_foods.append(\"Sushi\")\n",
    "print(favorite_foods)\n"
   ]
  },
  {
   "cell_type": "code",
   "execution_count": 6,
   "id": "804a958a-239e-4e4a-a2e5-7cdf34ae1043",
   "metadata": {},
   "outputs": [
    {
     "name": "stdout",
     "output_type": "stream",
     "text": [
      "Hello, my name is Giannis Tsioulis!\n"
     ]
    }
   ],
   "source": [
    "# Variables for first and last name\n",
    "first_name = \"Giannis\"\n",
    "last_name = \"Tsioulis\"\n",
    "\n",
    "# Concatenate and print full name\n",
    "full_name = first_name + \" \" + last_name\n",
    "print(f\"Hello, my name is {full_name}!\")\n"
   ]
  },
  {
   "cell_type": "code",
   "execution_count": 7,
   "id": "c8f42108-3a1f-43b5-ae8b-2f9570a69d79",
   "metadata": {},
   "outputs": [
    {
     "name": "stdout",
     "output_type": "stream",
     "text": [
      "Average: 8.333333333333334\n",
      "Result of multiplication and subtraction: 470\n",
      "Difference between largest and smallest: 7\n",
      "List with numbers and average: [12, 8, 5, 8.333333333333334]\n"
     ]
    }
   ],
   "source": [
    "a = 12\n",
    "b = 8\n",
    "c = 5\n",
    "\n",
    "# Manually calculate the average\n",
    "average = (a + b + c) / 3\n",
    "print(\"Average:\", average)\n",
    "\n",
    "# Multiply a, b, and c, then subtract 10\n",
    "result = (a * b * c) - 10\n",
    "print(\"Result of multiplication and subtraction:\", result)\n",
    "\n",
    "# Difference between the largest and smallest number\n",
    "difference = max(a, b, c) - min(a, b, c)\n",
    "print(\"Difference between largest and smallest:\", difference)\n",
    "\n",
    "# Create a list and add the average\n",
    "numbers_list = [a, b, c]\n",
    "numbers_list.append(average)\n",
    "print(\"List with numbers and average:\", numbers_list)\n"
   ]
  },
  {
   "cell_type": "code",
   "execution_count": 8,
   "id": "0569667c-5209-4253-95bd-8acc0a5907e6",
   "metadata": {},
   "outputs": [
    {
     "name": "stdin",
     "output_type": "stream",
     "text": [
      "Enter the total purchase amount:  100\n"
     ]
    },
    {
     "name": "stdout",
     "output_type": "stream",
     "text": [
      "The final price after discount is: 90.00\n"
     ]
    }
   ],
   "source": [
    "# Ask the user for the total purchase amount\n",
    "total_purchase = float(input(\"Enter the total purchase amount: \"))\n",
    "\n",
    "# Apply discount based on the total purchase\n",
    "if total_purchase >= 100:\n",
    "    discount = total_purchase * 0.10\n",
    "else:\n",
    "    discount = total_purchase * 0.05\n",
    "\n",
    "final_price = total_purchase - discount\n",
    "print(f\"The final price after discount is: {final_price:.2f}\")\n"
   ]
  },
  {
   "cell_type": "code",
   "execution_count": null,
   "id": "3eb01f0d-ae1c-4130-9bbb-0b9526e18e6e",
   "metadata": {},
   "outputs": [],
   "source": []
  }
 ],
 "metadata": {
  "kernelspec": {
   "display_name": "Python 3 (ipykernel)",
   "language": "python",
   "name": "python3"
  },
  "language_info": {
   "codemirror_mode": {
    "name": "ipython",
    "version": 3
   },
   "file_extension": ".py",
   "mimetype": "text/x-python",
   "name": "python",
   "nbconvert_exporter": "python",
   "pygments_lexer": "ipython3",
   "version": "3.9.7"
  }
 },
 "nbformat": 4,
 "nbformat_minor": 5
}
