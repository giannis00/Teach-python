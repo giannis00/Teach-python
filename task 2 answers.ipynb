{
 "cells": [
  {
   "cell_type": "markdown",
   "id": "c6bd3068-ce46-4b0c-b5aa-1e2727cd3f46",
   "metadata": {},
   "source": [
    "**Temperature Check**"
   ]
  },
  {
   "cell_type": "code",
   "execution_count": 1,
   "id": "98732dc0-7ce9-4a4e-91f4-8ad2c0eee5fd",
   "metadata": {},
   "outputs": [
    {
     "name": "stdin",
     "output_type": "stream",
     "text": [
      "Enter the temperature in Celsius:  35\n"
     ]
    },
    {
     "name": "stdout",
     "output_type": "stream",
     "text": [
      "It's hot.\n"
     ]
    }
   ],
   "source": [
    "# Ask for the temperature\n",
    "temperature = float(input(\"Enter the temperature in Celsius: \"))\n",
    "\n",
    "# Check the temperature category\n",
    "if temperature > 30:\n",
    "    print(\"It's hot.\")\n",
    "elif temperature < 15:\n",
    "    print(\"It's cold.\")\n",
    "else:\n",
    "    print(\"The weather is moderate.\")\n"
   ]
  },
  {
   "cell_type": "markdown",
   "id": "334ee0d4-bc9e-4471-a2f1-c50df8ed1f23",
   "metadata": {},
   "source": [
    "**Maximum of Three Numbers**"
   ]
  },
  {
   "cell_type": "code",
   "execution_count": 2,
   "id": "21b651d8-5287-433c-88c7-840da7fa6a57",
   "metadata": {},
   "outputs": [
    {
     "name": "stdin",
     "output_type": "stream",
     "text": [
      "Enter the first number:  10\n",
      "Enter the second number:  50\n",
      "Enter the third number:  1\n"
     ]
    },
    {
     "name": "stdout",
     "output_type": "stream",
     "text": [
      "The largest number is 50.\n"
     ]
    }
   ],
   "source": [
    "# Ask the user for three numbers\n",
    "num1 = int(input(\"Enter the first number: \"))\n",
    "num2 = int(input(\"Enter the second number: \"))\n",
    "num3 = int(input(\"Enter the third number: \"))\n",
    "\n",
    "# Find the largest number\n",
    "if num1 >= num2 and num1 >= num3:\n",
    "    print(f\"The largest number is {num1}.\")\n",
    "elif num2 >= num1 and num2 >= num3:\n",
    "    print(f\"The largest number is {num2}.\")\n",
    "else:\n",
    "    print(f\"The largest number is {num3}.\")\n"
   ]
  },
  {
   "cell_type": "markdown",
   "id": "f04b709e-f304-4ffe-9a19-73447b941a0b",
   "metadata": {},
   "source": [
    "**Number Range Check**"
   ]
  },
  {
   "cell_type": "code",
   "execution_count": 3,
   "id": "532eb6f2-6910-4cdf-b8dd-57860dfb79ea",
   "metadata": {},
   "outputs": [
    {
     "name": "stdin",
     "output_type": "stream",
     "text": [
      "Enter a number:  44\n"
     ]
    },
    {
     "name": "stdout",
     "output_type": "stream",
     "text": [
      "44 is not between 10 and 20.\n"
     ]
    }
   ],
   "source": [
    "# Ask for a number\n",
    "number = int(input(\"Enter a number: \"))\n",
    "\n",
    "# Check if the number is in the range 10 to 20\n",
    "if 10 <= number <= 20:\n",
    "    print(f\"{number} is between 10 and 20.\")\n",
    "else:\n",
    "    print(f\"{number} is not between 10 and 20.\")\n"
   ]
  },
  {
   "cell_type": "markdown",
   "id": "78a308d4-a3e9-444a-9550-24d1f58c37f4",
   "metadata": {},
   "source": [
    "**Check for Divisibility by 3 and 5**"
   ]
  },
  {
   "cell_type": "code",
   "execution_count": 5,
   "id": "08e4aba1-4d29-40d1-b0d8-7cc00009c2a7",
   "metadata": {},
   "outputs": [
    {
     "name": "stdin",
     "output_type": "stream",
     "text": [
      "Enter a number:  15\n"
     ]
    },
    {
     "name": "stdout",
     "output_type": "stream",
     "text": [
      "15 is divisible by both 3 and 5.\n"
     ]
    }
   ],
   "source": [
    "# Ask for a number\n",
    "number = int(input(\"Enter a number: \"))\n",
    "\n",
    "# Check divisibility by 3 and 5\n",
    "if number % 3 == 0 and number % 5 == 0:\n",
    "    print(f\"{number} is divisible by both 3 and 5.\")\n",
    "elif number % 3 == 0:\n",
    "    print(f\"{number} is divisible by 3.\")\n",
    "elif number % 5 == 0:\n",
    "    print(f\"{number} is divisible by 5.\")\n",
    "else:\n",
    "    print(f\"{number} is not divisible by 3 or 5.\")\n",
    "\n",
    "    "
   ]
  },
  {
   "cell_type": "markdown",
   "id": "18feac3d-4e4b-48ff-bcb2-2f8ad374db42",
   "metadata": {},
   "source": [
    "**Grading System with Ranges**"
   ]
  },
  {
   "cell_type": "code",
   "execution_count": 6,
   "id": "90a1bbf0-171a-440d-9a5e-5e99c15a8418",
   "metadata": {},
   "outputs": [
    {
     "name": "stdin",
     "output_type": "stream",
     "text": [
      "Enter the student's score:  91\n"
     ]
    },
    {
     "name": "stdout",
     "output_type": "stream",
     "text": [
      "Grade: A\n"
     ]
    }
   ],
   "source": [
    "# Ask for the student's score\n",
    "score = int(input(\"Enter the student's score: \"))\n",
    "\n",
    "# Assign a grade based on the score\n",
    "if score >= 90:\n",
    "    print(\"Grade: A\")\n",
    "elif score >= 80:\n",
    "    print(\"Grade: B\")\n",
    "elif score >= 70:\n",
    "    print(\"Grade: C\")\n",
    "elif score >= 60:\n",
    "    print(\"Grade: D\")\n",
    "else:\n",
    "    print(\"Grade: F\")\n"
   ]
  },
  {
   "cell_type": "markdown",
   "id": "dcad8b49-8d55-4536-949f-b106183819c0",
   "metadata": {},
   "source": [
    "**Calculate Ticket Price Based on Age**"
   ]
  },
  {
   "cell_type": "code",
   "execution_count": 7,
   "id": "698d8267-e232-438c-afb8-356c336e4a1e",
   "metadata": {},
   "outputs": [
    {
     "name": "stdin",
     "output_type": "stream",
     "text": [
      "Enter your age:  30\n"
     ]
    },
    {
     "name": "stdout",
     "output_type": "stream",
     "text": [
      "The ticket price is: $10\n"
     ]
    }
   ],
   "source": [
    "# Ask for the user's age\n",
    "age = int(input(\"Enter your age: \"))\n",
    "\n",
    "# Determine the ticket price\n",
    "if age < 12:\n",
    "    price = 5\n",
    "elif 12 <= age <= 17:\n",
    "    price = 7\n",
    "elif 18 <= age <= 59:\n",
    "    price = 10\n",
    "else:\n",
    "    price = 6\n",
    "\n",
    "print(f\"The ticket price is: ${price}\")\n"
   ]
  },
  {
   "cell_type": "markdown",
   "id": "b375df4d-1aac-4e57-8d60-644b528af31a",
   "metadata": {},
   "source": [
    "**Password Checker**"
   ]
  },
  {
   "cell_type": "code",
   "execution_count": 8,
   "id": "e790fb70-37d5-44d0-92a6-e4e70c9f9898",
   "metadata": {},
   "outputs": [
    {
     "name": "stdin",
     "output_type": "stream",
     "text": [
      "Enter your password:  ghjklf\n"
     ]
    },
    {
     "name": "stdout",
     "output_type": "stream",
     "text": [
      "Access Denied\n"
     ]
    }
   ],
   "source": [
    "# Pre-set password\n",
    "correct_password = \"Python123\"\n",
    "\n",
    "# Ask for the user's password\n",
    "password = input(\"Enter your password: \")\n",
    "\n",
    "# Check if the password is correct\n",
    "if password == correct_password:\n",
    "    print(\"Access Granted\")\n",
    "else:\n",
    "    print(\"Access Denied\")\n"
   ]
  },
  {
   "cell_type": "code",
   "execution_count": null,
   "id": "fde49619-8312-4d54-8872-28e3d59b0b78",
   "metadata": {},
   "outputs": [],
   "source": []
  }
 ],
 "metadata": {
  "kernelspec": {
   "display_name": "Python 3 (ipykernel)",
   "language": "python",
   "name": "python3"
  },
  "language_info": {
   "codemirror_mode": {
    "name": "ipython",
    "version": 3
   },
   "file_extension": ".py",
   "mimetype": "text/x-python",
   "name": "python",
   "nbconvert_exporter": "python",
   "pygments_lexer": "ipython3",
   "version": "3.9.7"
  }
 },
 "nbformat": 4,
 "nbformat_minor": 5
}
