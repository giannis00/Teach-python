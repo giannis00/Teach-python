{
 "cells": [
  {
   "cell_type": "code",
   "execution_count": 1,
   "id": "c9028ec5-e2fd-4b20-9d74-cdbd22414e26",
   "metadata": {},
   "outputs": [
    {
     "name": "stdin",
     "output_type": "stream",
     "text": [
      "Enter the temperature in Celsius:  20\n"
     ]
    },
    {
     "name": "stdout",
     "output_type": "stream",
     "text": [
      "The weather is moderate.\n"
     ]
    }
   ],
   "source": [
    "# Ask for the temperature\n",
    "temperature = float(input(\"Enter the temperature in Celsius: \"))\n",
    "\n",
    "# Check the temperature category\n",
    "if temperature > 30:\n",
    "    print(\"It's hot.\")\n",
    "elif temperature < 15:\n",
    "    print(\"It's cold.\")\n",
    "else:\n",
    "    print(\"The weather is moderate.\")\n"
   ]
  },
  {
   "cell_type": "code",
   "execution_count": 2,
   "id": "3bbe5664-7ae2-4304-a798-8eae6e354c84",
   "metadata": {},
   "outputs": [
    {
     "name": "stdin",
     "output_type": "stream",
     "text": [
      "Enter the first number:  10\n",
      "Enter the second number:  29\n",
      "Enter the third number:  100\n"
     ]
    },
    {
     "name": "stdout",
     "output_type": "stream",
     "text": [
      "The largest number is 100.\n"
     ]
    }
   ],
   "source": [
    "# Ask the user for three numbers\n",
    "num1 = int(input(\"Enter the first number: \"))\n",
    "num2 = int(input(\"Enter the second number: \"))\n",
    "num3 = int(input(\"Enter the third number: \"))\n",
    "\n",
    "# Find the largest number\n",
    "if num1 >= num2 and num1 >= num3:\n",
    "    print(f\"The largest number is {num1}.\")\n",
    "elif num2 >= num1 and num2 >= num3:\n",
    "    print(f\"The largest number is {num2}.\")\n",
    "else:\n",
    "    print(f\"The largest number is {num3}.\")\n"
   ]
  },
  {
   "cell_type": "code",
   "execution_count": null,
   "id": "eadadde1-dc89-43b4-ba49-c582040207b4",
   "metadata": {},
   "outputs": [],
   "source": []
  }
 ],
 "metadata": {
  "kernelspec": {
   "display_name": "Python 3 (ipykernel)",
   "language": "python",
   "name": "python3"
  },
  "language_info": {
   "codemirror_mode": {
    "name": "ipython",
    "version": 3
   },
   "file_extension": ".py",
   "mimetype": "text/x-python",
   "name": "python",
   "nbconvert_exporter": "python",
   "pygments_lexer": "ipython3",
   "version": "3.9.7"
  }
 },
 "nbformat": 4,
 "nbformat_minor": 5
}
