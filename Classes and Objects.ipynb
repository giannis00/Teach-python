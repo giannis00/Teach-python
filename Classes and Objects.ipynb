{
 "cells": [
  {
   "cell_type": "markdown",
   "id": "7fe7aeed-aaa8-4848-953f-158507dbdf21",
   "metadata": {},
   "source": [
    "# Introduction to Classes and Objects in Python\n",
    "\n",
    "### What are Classes and Objects?\n",
    "\n",
    "- **Classes**: A class is like a blueprint or template. Imagine you want to create many cars in a game or application. You could define a \"Car\" class that describes what every car should have (like color, model, and make) and what it can do (like drive or honk).\n",
    "- **Objects**: An object is an actual thing created from a class. Using the \"Car\" class, you can create a car called `my_car`, which has specific features (like red color, Toyota make, etc.).\n",
    "\n",
    "Think of a **class** as a plan and an **object** as the actual item built from that plan.\n"
   ]
  },
  {
   "cell_type": "markdown",
   "id": "10f19296-4171-4619-8be6-b8efcc116754",
   "metadata": {},
   "source": [
    "## Exercise 1: Defining a Basic Class\n",
    "\n",
    "**Explanation**: \n",
    "We’ll start by creating a simple class called `Person`. This class will act as a template to describe any person, with attributes like `name` and `age`. Once the class is created, we can create specific instances, or \"objects,\" of the class.\n",
    "\n",
    "Think of this class as a general description of a person. Each person object will have its own unique `name` and `age`.\n"
   ]
  },
  {
   "cell_type": "code",
   "execution_count": 2,
   "id": "5e182678-87cc-4b3e-aa3a-44f161978cf1",
   "metadata": {},
   "outputs": [
    {
     "name": "stdout",
     "output_type": "stream",
     "text": [
      "Name: Alice\n",
      "Age: 30\n"
     ]
    }
   ],
   "source": [
    "class Person:\n",
    "    def __init__(self, name, age):\n",
    "        self.name = name\n",
    "        self.age = age\n",
    "\n",
    "# Create an object of the Person class\n",
    "person1 = Person(\"Alice\", 30)\n",
    "\n",
    "# Print the attributes of the object\n",
    "print(\"Name:\", person1.name)\n",
    "print(\"Age:\", person1.age)\n"
   ]
  },
  {
   "cell_type": "markdown",
   "id": "3f282f64-70a8-4ae6-abf3-ab9c32fdb0a5",
   "metadata": {},
   "source": [
    "## Exercise 2: Adding Methods to a Class\n",
    "\n",
    "**Explanation**: \n",
    "Now that we know how to create a class and give it attributes, let’s add a method (a function inside the class) to make our `Person` do something. We’ll add a `greet` method, which will let each person say a simple greeting with their name.\n",
    "\n",
    "Methods are like actions that the object can perform. Here, the `greet` method will print a message that includes the person’s name.\n"
   ]
  },
  {
   "cell_type": "code",
   "execution_count": 4,
   "id": "c7d0a8ee-a94e-4941-9218-d9615022122d",
   "metadata": {},
   "outputs": [
    {
     "name": "stdout",
     "output_type": "stream",
     "text": [
      "Hello, my name is Alice!\n"
     ]
    }
   ],
   "source": [
    "class Person:\n",
    "    def __init__(self, name, age):\n",
    "        self.name = name\n",
    "        self.age = age\n",
    "\n",
    "    def greet(self):\n",
    "        return f\"Hello, my name is {self.name}!\"\n",
    "\n",
    "# Create an object and call the method\n",
    "person1 = Person(\"Alice\", 30)\n",
    "print(person1.greet())\n"
   ]
  },
  {
   "cell_type": "markdown",
   "id": "0cc4e317-f2a6-48e7-998b-bb66338b0b1e",
   "metadata": {},
   "source": [
    "## Exercise 3: Modifying Attributes of an Object\n",
    "\n",
    "**Explanation**: \n",
    "We can also add methods that change an object’s attributes. Here, we’ll add a method to update the `age` of a `Person` object. This way, even after a person object is created, we can modify its data.\n",
    "\n",
    "Think of this as giving each person the ability to have their age updated.\n"
   ]
  },
  {
   "cell_type": "code",
   "execution_count": 5,
   "id": "fc2d2a10-401c-4f9d-98ba-3535fe6e51d6",
   "metadata": {},
   "outputs": [
    {
     "name": "stdout",
     "output_type": "stream",
     "text": [
      "Original Age: 30\n",
      "Updated Age: 31\n"
     ]
    }
   ],
   "source": [
    "class Person:\n",
    "    def __init__(self, name, age):\n",
    "        self.name = name\n",
    "        self.age = age\n",
    "\n",
    "    def greet(self):\n",
    "        return f\"Hello, my name is {self.name}!\"\n",
    "\n",
    "    def update_age(self, new_age):\n",
    "        self.age = new_age\n",
    "\n",
    "# Create an object and update age\n",
    "person1 = Person(\"Alice\", 30)\n",
    "print(\"Original Age:\", person1.age)\n",
    "\n",
    "# Update the age\n",
    "person1.update_age(31)\n",
    "print(\"Updated Age:\", person1.age)\n"
   ]
  },
  {
   "cell_type": "markdown",
   "id": "0ff38ed9-a45d-40e2-bb7f-17ec7c8e1bdf",
   "metadata": {},
   "source": [
    "## Exercise 4: Multiple Instances of a Class\n",
    "\n",
    "**Explanation**: \n",
    "Each time we create an object from a class, we get an independent instance. This means we can create multiple `Person` objects, each with its own data. Here, we’ll create two people, `Alice` and `Bob`, to show that each object is separate.\n",
    "\n",
    "This is like having multiple people with different names and ages, all created from the same class.\n"
   ]
  },
  {
   "cell_type": "code",
   "execution_count": 6,
   "id": "831a4c76-5f0b-4156-9ddf-aff9dd96a10e",
   "metadata": {},
   "outputs": [
    {
     "name": "stdout",
     "output_type": "stream",
     "text": [
      "Hello, my name is Alice!\n",
      "Alice's Age: 30\n",
      "Hello, my name is Bob!\n",
      "Bob's Age: 25\n"
     ]
    }
   ],
   "source": [
    "class Person:\n",
    "    def __init__(self, name, age):\n",
    "        self.name = name\n",
    "        self.age = age\n",
    "\n",
    "    def greet(self):\n",
    "        return f\"Hello, my name is {self.name}!\"\n",
    "\n",
    "# Create multiple objects\n",
    "person1 = Person(\"Alice\", 30)\n",
    "person2 = Person(\"Bob\", 25)\n",
    "\n",
    "# Print information for each object\n",
    "print(person1.greet())\n",
    "print(\"Alice's Age:\", person1.age)\n",
    "print(person2.greet())\n",
    "print(\"Bob's Age:\", person2.age)\n"
   ]
  },
  {
   "cell_type": "markdown",
   "id": "d922d10f-57d3-4a2b-95a2-0532599a17e1",
   "metadata": {},
   "source": [
    "## Exercise 5: Simple Class Interaction - Using a Car Class\n",
    "\n",
    "**Explanation**: \n",
    "Let’s try a new example with a `Car` class. This class will have attributes like `make`, `model`, and `year`. We’ll also add a method to display information about the car, showing how a class can represent real-world objects with multiple attributes.\n",
    "\n",
    "Think of each car object as having its own details, like a real car in a parking lot with specific characteristics.\n"
   ]
  },
  {
   "cell_type": "code",
   "execution_count": 8,
   "id": "a9bc8a47-834f-4ccc-88f3-7737779398f6",
   "metadata": {},
   "outputs": [
    {
     "name": "stdout",
     "output_type": "stream",
     "text": [
      "2020 Toyota Camry\n"
     ]
    }
   ],
   "source": [
    "class Car:\n",
    "    def __init__(self, make, model, year):\n",
    "        self.make = make\n",
    "        self.model = model\n",
    "        self.year = year\n",
    "\n",
    "    def car_info(self):\n",
    "        return f\"{self.year} {self.make} {self.model}\"\n",
    "\n",
    "# Create an object of the Car class\n",
    "car1 = Car(\"Toyota\", \"Camry\", 2020)\n",
    "\n",
    "# Display the car information\n",
    "print(car1.car_info())\n"
   ]
  },
  {
   "cell_type": "code",
   "execution_count": null,
   "id": "dfe2902c-0421-4f23-8d80-1017bb1506ea",
   "metadata": {},
   "outputs": [],
   "source": []
  }
 ],
 "metadata": {
  "kernelspec": {
   "display_name": "Python 3 (ipykernel)",
   "language": "python",
   "name": "python3"
  },
  "language_info": {
   "codemirror_mode": {
    "name": "ipython",
    "version": 3
   },
   "file_extension": ".py",
   "mimetype": "text/x-python",
   "name": "python",
   "nbconvert_exporter": "python",
   "pygments_lexer": "ipython3",
   "version": "3.9.7"
  }
 },
 "nbformat": 4,
 "nbformat_minor": 5
}
