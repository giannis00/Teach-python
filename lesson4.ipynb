{
 "cells": [
  {
   "cell_type": "code",
   "execution_count": 1,
   "id": "6246971d-35d7-45b6-a51d-c49d2ab84059",
   "metadata": {},
   "outputs": [
    {
     "name": "stdout",
     "output_type": "stream",
     "text": [
      "Number of even numbers: 5\n"
     ]
    }
   ],
   "source": [
    "numbers = [1, 2, 3, 4, 5, 6, 7, 8, 9, 10]\n",
    "even_count = 0\n",
    "\n",
    "for num in numbers:\n",
    "    if num % 2 == 0:\n",
    "        even_count += 1\n",
    "\n",
    "print(f\"Number of even numbers: {even_count}\")\n"
   ]
  },
  {
   "cell_type": "code",
   "execution_count": null,
   "id": "c2b4271e-33c0-4d99-a773-45def8ac71e4",
   "metadata": {},
   "outputs": [],
   "source": [
    "\n",
    "\n",
    "\n",
    "\n",
    "\n",
    "\n",
    "\n",
    "\n",
    "\n",
    "\n",
    "\n",
    "\n",
    "\n",
    "\n",
    "\n",
    "\n",
    "\n"
   ]
  },
  {
   "cell_type": "code",
   "execution_count": 2,
   "id": "5c033274-cfba-4446-9b77-272ca5898173",
   "metadata": {},
   "outputs": [
    {
     "name": "stdout",
     "output_type": "stream",
     "text": [
      "Number of even numbers: 5\n"
     ]
    }
   ],
   "source": [
    "numbers = [1, 2, 3, 4, 5, 6, 7, 8, 9, 10]\n",
    "even_count = 0\n",
    "index = 0\n",
    "\n",
    "while index < len(numbers):\n",
    "    if numbers[index] % 2 == 0:\n",
    "        even_count += 1\n",
    "    index += 1\n",
    "\n",
    "print(f\"Number of even numbers: {even_count}\")\n"
   ]
  },
  {
   "cell_type": "code",
   "execution_count": 3,
   "id": "81050f6f-8a3d-4af4-91b1-ea7da1a6a4aa",
   "metadata": {},
   "outputs": [
    {
     "name": "stdout",
     "output_type": "stream",
     "text": [
      "The sum of the first 10 natural numbers is 55\n"
     ]
    }
   ],
   "source": [
    "total_sum = 0\n",
    "\n",
    "for i in range(1, 11):\n",
    "    total_sum += i\n",
    "\n",
    "print(f\"The sum of the first 10 natural numbers is {total_sum}\")\n"
   ]
  },
  {
   "cell_type": "code",
   "execution_count": null,
   "id": "d1fbc34b-66dd-49b0-b805-5328b0e24da2",
   "metadata": {},
   "outputs": [],
   "source": [
    "\n",
    "\n",
    "\n",
    "\n",
    "\n",
    "\n",
    "\n",
    "\n",
    "\n",
    "\n",
    "\n",
    "\n",
    "\n",
    "\n",
    "\n"
   ]
  },
  {
   "cell_type": "code",
   "execution_count": 4,
   "id": "08a31324-d790-4602-a1cd-40a307136231",
   "metadata": {},
   "outputs": [
    {
     "name": "stdout",
     "output_type": "stream",
     "text": [
      "The sum of the first 10 natural numbers is 55\n"
     ]
    }
   ],
   "source": [
    "total_sum = 0\n",
    "i = 1\n",
    "\n",
    "while i <= 10:\n",
    "    total_sum += i\n",
    "    i += 1\n",
    "\n",
    "print(f\"The sum of the first 10 natural numbers is {total_sum}\")\n"
   ]
  },
  {
   "cell_type": "code",
   "execution_count": 6,
   "id": "03b57d8b-00cf-44ff-b8af-05229f0bb88f",
   "metadata": {},
   "outputs": [
    {
     "name": "stdin",
     "output_type": "stream",
     "text": [
      "Guess the number:  1\n"
     ]
    },
    {
     "name": "stdout",
     "output_type": "stream",
     "text": [
      "Too low!\n"
     ]
    },
    {
     "name": "stdin",
     "output_type": "stream",
     "text": [
      "Guess the number:  50\n"
     ]
    },
    {
     "name": "stdout",
     "output_type": "stream",
     "text": [
      "Too high!\n"
     ]
    },
    {
     "name": "stdin",
     "output_type": "stream",
     "text": [
      "Guess the number:  30\n"
     ]
    },
    {
     "name": "stdout",
     "output_type": "stream",
     "text": [
      "Too high!\n"
     ]
    },
    {
     "name": "stdin",
     "output_type": "stream",
     "text": [
      "Guess the number:  20\n"
     ]
    },
    {
     "name": "stdout",
     "output_type": "stream",
     "text": [
      "Too high!\n"
     ]
    },
    {
     "name": "stdin",
     "output_type": "stream",
     "text": [
      "Guess the number:  15\n"
     ]
    },
    {
     "name": "stdout",
     "output_type": "stream",
     "text": [
      "Too high!\n"
     ]
    },
    {
     "name": "stdin",
     "output_type": "stream",
     "text": [
      "Guess the number:  11\n"
     ]
    },
    {
     "name": "stdout",
     "output_type": "stream",
     "text": [
      "Too high!\n"
     ]
    },
    {
     "name": "stdin",
     "output_type": "stream",
     "text": [
      "Guess the number:  10\n"
     ]
    },
    {
     "name": "stdout",
     "output_type": "stream",
     "text": [
      "Too high!\n"
     ]
    },
    {
     "name": "stdin",
     "output_type": "stream",
     "text": [
      "Guess the number:  5\n"
     ]
    },
    {
     "name": "stdout",
     "output_type": "stream",
     "text": [
      "Too low!\n"
     ]
    },
    {
     "name": "stdin",
     "output_type": "stream",
     "text": [
      "Guess the number:  6\n"
     ]
    },
    {
     "name": "stdout",
     "output_type": "stream",
     "text": [
      "Too low!\n"
     ]
    },
    {
     "name": "stdin",
     "output_type": "stream",
     "text": [
      "Guess the number:  7\n"
     ]
    },
    {
     "name": "stdout",
     "output_type": "stream",
     "text": [
      "Congratulations! You guessed the correct number.\n"
     ]
    }
   ],
   "source": [
    "secret_number = 7\n",
    "guess = 0\n",
    "\n",
    "while guess != secret_number:\n",
    "    guess = int(input(\"Guess the number: \"))\n",
    "    if guess < secret_number:\n",
    "        print(\"Too low!\")\n",
    "    elif guess > secret_number:\n",
    "        print(\"Too high!\")\n",
    "\n",
    "print(\"Congratulations! You guessed the correct number.\")\n"
   ]
  },
  {
   "cell_type": "code",
   "execution_count": null,
   "id": "38b2b9f6-aa8e-4e81-883d-f09d7b5779d3",
   "metadata": {},
   "outputs": [],
   "source": [
    "\n",
    "\n",
    "\n",
    "\n",
    "\n",
    "\n",
    "\n",
    "\n",
    "\n",
    "\n",
    "\n",
    "\n",
    "\n",
    "\n",
    "\n",
    "\n"
   ]
  },
  {
   "cell_type": "code",
   "execution_count": null,
   "id": "b203d9e2-52d6-475b-800b-e68eaf1ceef5",
   "metadata": {},
   "outputs": [],
   "source": [
    "secret_number = 7\n",
    "\n",
    "for _ in range(5):  # Limit the user to 5 attempts\n",
    "    guess = int(input(\"Guess the number: \"))\n",
    "    if guess == secret_number:\n",
    "        print(\"Congratulations! You guessed the correct number.\")\n",
    "        break\n",
    "    elif guess < secret_number:\n",
    "        print(\"Too low!\")\n",
    "    else:\n",
    "        print(\"Too high!\")\n",
    "else:\n",
    "    print(f\"Sorry, you couldn't guess the number. The correct number was {secret_number}.\")\n"
   ]
  },
  {
   "cell_type": "markdown",
   "id": "e6165a42-9e45-4c4d-9797-64cb5bf0a4a6",
   "metadata": {},
   "source": [
    "**Task: Write a program that calculates the sum of all odd numbers between 1 and 100.**"
   ]
  },
  {
   "cell_type": "code",
   "execution_count": null,
   "id": "be4c1642-1b9e-4d46-acf4-c2f7d30ff30e",
   "metadata": {},
   "outputs": [],
   "source": [
    "\n",
    "\n",
    "\n",
    "\n",
    "\n",
    "\n",
    "\n",
    "\n",
    "\n",
    "\n",
    "\n",
    "\n",
    "\n",
    "\n",
    "\n",
    "\n"
   ]
  },
  {
   "cell_type": "code",
   "execution_count": 8,
   "id": "909ebdb6-d2d6-49ac-abdb-d4b281f60738",
   "metadata": {},
   "outputs": [
    {
     "name": "stdout",
     "output_type": "stream",
     "text": [
      "The sum of all odd numbers between 1 and 100 is 2500\n"
     ]
    }
   ],
   "source": [
    "total_sum = 0\n",
    "\n",
    "for num in range(1, 101):\n",
    "    if num % 2 != 0:  # Check if the number is odd\n",
    "        total_sum += num\n",
    "\n",
    "print(f\"The sum of all odd numbers between 1 and 100 is {total_sum}\")\n"
   ]
  },
  {
   "cell_type": "markdown",
   "id": "4dfd9f50-e357-4fec-a4c0-5aa3c3bd0e94",
   "metadata": {},
   "source": [
    "**Task: Write a program that finds and prints the largest number in a list of integers.**"
   ]
  },
  {
   "cell_type": "code",
   "execution_count": null,
   "id": "8afa1f45-a680-420d-aa70-ed758ea7ad64",
   "metadata": {},
   "outputs": [],
   "source": [
    "\n",
    "\n",
    "\n",
    "\n",
    "\n",
    "\n",
    "\n",
    "\n",
    "\n",
    "\n",
    "\n",
    "\n",
    "\n",
    "\n",
    "\n",
    "\n",
    "\n",
    "\n"
   ]
  },
  {
   "cell_type": "code",
   "execution_count": 9,
   "id": "50d9d35c-9c29-4b91-8a8d-0f1dfccc596b",
   "metadata": {},
   "outputs": [
    {
     "name": "stdout",
     "output_type": "stream",
     "text": [
      "The largest number in the list is 10\n"
     ]
    }
   ],
   "source": [
    "numbers = [3, 7, 2, 8, 10, 5, 1]\n",
    "largest = numbers[0]\n",
    "\n",
    "for num in numbers:\n",
    "    if num > largest:\n",
    "        largest = num\n",
    "\n",
    "print(f\"The largest number in the list is {largest}\")\n"
   ]
  },
  {
   "cell_type": "markdown",
   "id": "487857fb-6b2c-4b64-9911-d61342955ab7",
   "metadata": {},
   "source": [
    "**Task: Write a program that asks the user to enter their age. If the user enters a value that is less than 0 or greater than 120, the program keeps asking until a valid age is entered.**"
   ]
  },
  {
   "cell_type": "code",
   "execution_count": null,
   "id": "629d647e-8c93-429c-86fe-d17af9bda941",
   "metadata": {},
   "outputs": [],
   "source": [
    "\n",
    "\n",
    "\n",
    "\n",
    "\n",
    "\n",
    "\n",
    "\n",
    "\n",
    "\n",
    "\n",
    "\n",
    "\n",
    "\n",
    "\n"
   ]
  },
  {
   "cell_type": "code",
   "execution_count": 10,
   "id": "a7d15d84-c415-416c-a634-db733a63ae0d",
   "metadata": {},
   "outputs": [
    {
     "name": "stdin",
     "output_type": "stream",
     "text": [
      "Enter your age:  34\n"
     ]
    },
    {
     "name": "stdout",
     "output_type": "stream",
     "text": [
      "Valid age entered: 34\n"
     ]
    }
   ],
   "source": [
    "age = int(input(\"Enter your age: \"))\n",
    "\n",
    "while age < 0 or age > 120:\n",
    "    print(\"Invalid age! Please enter a valid age.\")\n",
    "    age = int(input(\"Enter your age: \"))\n",
    "\n",
    "print(f\"Valid age entered: {age}\")\n"
   ]
  },
  {
   "cell_type": "markdown",
   "id": "ea336a90-6e17-4bc3-8b59-1a518e2600f5",
   "metadata": {},
   "source": [
    "**Task: Write a program that counts how many digits a number has.**"
   ]
  },
  {
   "cell_type": "code",
   "execution_count": null,
   "id": "03f3c46f-5a70-4413-9a51-68925421243a",
   "metadata": {},
   "outputs": [],
   "source": [
    "\n",
    "\n",
    "\n",
    "\n",
    "\n",
    "\n",
    "\n",
    "\n",
    "\n",
    "\n",
    "\n",
    "\n",
    "\n",
    "\n",
    "\n",
    "\n",
    "\n",
    "\n"
   ]
  },
  {
   "cell_type": "code",
   "execution_count": 12,
   "id": "4984027b-712c-4d84-bf6c-3aae31f3a83c",
   "metadata": {},
   "outputs": [
    {
     "name": "stdin",
     "output_type": "stream",
     "text": [
      "Enter a number:  0\n"
     ]
    },
    {
     "name": "stdout",
     "output_type": "stream",
     "text": [
      "The number has 0 digits.\n"
     ]
    }
   ],
   "source": [
    "number = int(input(\"Enter a number: \"))\n",
    "digit_count = 0\n",
    "\n",
    "while number != 0:\n",
    "    number //= 10 #The // operator is called floor division. It divides two numbers and rounds down to the nearest whole number\n",
    "    digit_count += 1\n",
    "\n",
    "print(f\"The number has {digit_count} digits.\")\n"
   ]
  },
  {
   "cell_type": "code",
   "execution_count": null,
   "id": "485b04fa-5f90-42d0-9ce2-9be6113af970",
   "metadata": {},
   "outputs": [],
   "source": []
  }
 ],
 "metadata": {
  "kernelspec": {
   "display_name": "Python 3 (ipykernel)",
   "language": "python",
   "name": "python3"
  },
  "language_info": {
   "codemirror_mode": {
    "name": "ipython",
    "version": 3
   },
   "file_extension": ".py",
   "mimetype": "text/x-python",
   "name": "python",
   "nbconvert_exporter": "python",
   "pygments_lexer": "ipython3",
   "version": "3.9.7"
  }
 },
 "nbformat": 4,
 "nbformat_minor": 5
}
