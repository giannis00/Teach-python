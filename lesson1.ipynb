{
 "cells": [
  {
   "cell_type": "markdown",
   "id": "6bec56ae-b6a9-4ccf-97b3-1e9198c18b39",
   "metadata": {},
   "source": [
    "**1.Write a program that asks the user for a number and checks if it is even or odd.**"
   ]
  },
  {
   "cell_type": "code",
   "execution_count": 1,
   "id": "a22aeb05-a638-48dd-b123-3c46f0431b09",
   "metadata": {},
   "outputs": [
    {
     "name": "stdin",
     "output_type": "stream",
     "text": [
      "Enter a number:  10\n"
     ]
    },
    {
     "name": "stdout",
     "output_type": "stream",
     "text": [
      "The number is even.\n"
     ]
    }
   ],
   "source": [
    "# Ask the user for a number\n",
    "number = int(input(\"Enter a number: \"))\n",
    "\n",
    "# Check if the number is even or odd\n",
    "if number % 2 == 0:\n",
    "    print(\"The number is even.\")\n",
    "else:\n",
    "    print(\"The number is odd.\")\n"
   ]
  },
  {
   "cell_type": "markdown",
   "id": "e09ff74e-39af-4d19-b934-672a0e78269e",
   "metadata": {},
   "source": [
    "**2. Age Checker\n",
    "Write a program that asks the user for their age and checks if they are old enough to vote (18 years or older).**"
   ]
  },
  {
   "cell_type": "code",
   "execution_count": 2,
   "id": "4dd9be86-744a-40e3-9373-db9d41858989",
   "metadata": {},
   "outputs": [
    {
     "name": "stdin",
     "output_type": "stream",
     "text": [
      "Enter your age:  34\n"
     ]
    },
    {
     "name": "stdout",
     "output_type": "stream",
     "text": [
      "You are old enough to vote.\n"
     ]
    }
   ],
   "source": [
    "# Ask the user for their age\n",
    "age = int(input(\"Enter your age: \"))\n",
    "\n",
    "# Check if the age is 18 or older\n",
    "if age >= 18:\n",
    "    print(\"You are old enough to vote.\")\n",
    "else:\n",
    "    print(\"You are not old enough to vote.\")\n"
   ]
  },
  {
   "cell_type": "markdown",
   "id": "fe614fa2-966d-4a35-93dd-bd2b291d51b4",
   "metadata": {},
   "source": [
    "**3. Pass/Fail Checker\n",
    "Write a program that asks the user for their exam score and checks if they have passed or failed (passing score is 50 or above).**"
   ]
  },
  {
   "cell_type": "code",
   "execution_count": 3,
   "id": "272dcdbd-cf57-4889-b9c8-135f7738186f",
   "metadata": {},
   "outputs": [
    {
     "name": "stdin",
     "output_type": "stream",
     "text": [
      "Enter your exam score:  90\n"
     ]
    },
    {
     "name": "stdout",
     "output_type": "stream",
     "text": [
      "You passed the exam!\n"
     ]
    }
   ],
   "source": [
    "# Ask the user for their exam score\n",
    "score = int(input(\"Enter your exam score: \"))\n",
    "\n",
    "# Check if the score is a pass or fail\n",
    "if score >= 50:\n",
    "    print(\"You passed the exam!\")\n",
    "else:\n",
    "    print(\"You failed the exam.\")\n"
   ]
  },
  {
   "cell_type": "markdown",
   "id": "21a661f2-9665-4696-ac71-f9b82cdbc4a7",
   "metadata": {},
   "source": [
    "**4. Positive, Negative, or Zero\n",
    "Write a program that asks the user for a number and checks if it is positive, negative, or zero.**"
   ]
  },
  {
   "cell_type": "code",
   "execution_count": 4,
   "id": "0af1af94-b566-42e1-b24f-6a0f4c908834",
   "metadata": {},
   "outputs": [
    {
     "name": "stdin",
     "output_type": "stream",
     "text": [
      "Enter a number:  10\n"
     ]
    },
    {
     "name": "stdout",
     "output_type": "stream",
     "text": [
      "The number is positive.\n"
     ]
    }
   ],
   "source": [
    "# Ask the user for a number\n",
    "number = float(input(\"Enter a number: \"))\n",
    "\n",
    "# Check if the number is positive, negative, or zero\n",
    "if number > 0:\n",
    "    print(\"The number is positive.\")\n",
    "elif number < 0:\n",
    "    print(\"The number is negative.\")\n",
    "else:\n",
    "    print(\"The number is zero.\")\n"
   ]
  },
  {
   "cell_type": "markdown",
   "id": "1472f73c-0042-4725-a657-9c27fb34262a",
   "metadata": {},
   "source": [
    "**5. Simple Grading System\n",
    "Write a program that asks the user for their grade and assigns a letter grade based on the score:\n",
    "90 and above: A\n",
    "80 to 89: B\n",
    "70 to 79: C\n",
    "60 to 69: D\n",
    "Below 60: F**"
   ]
  },
  {
   "cell_type": "code",
   "execution_count": 5,
   "id": "6a39c073-0c86-4618-9d2c-f0c3f77bde03",
   "metadata": {},
   "outputs": [
    {
     "name": "stdin",
     "output_type": "stream",
     "text": [
      "Enter your grade:  88\n"
     ]
    },
    {
     "name": "stdout",
     "output_type": "stream",
     "text": [
      "You got a B.\n"
     ]
    }
   ],
   "source": [
    "# Ask the user for their grade\n",
    "grade = int(input(\"Enter your grade: \"))\n",
    "\n",
    "# Assign a letter grade based on the score\n",
    "if grade >= 90:\n",
    "    print(\"You got an A.\")\n",
    "elif grade >= 80:\n",
    "    print(\"You got a B.\")\n",
    "elif grade >= 70:\n",
    "    print(\"You got a C.\")\n",
    "elif grade >= 60:\n",
    "    print(\"You got a D.\")\n",
    "else:\n",
    "    print(\"You got an F.\")\n"
   ]
  },
  {
   "cell_type": "markdown",
   "id": "587653db-e183-4564-9165-d614fe4bb705",
   "metadata": {},
   "source": [
    "**Exercise: Sum of Two Numbers Using a Function\n",
    "You can also create a function to add two numbers, which helps to introduce the idea of parameters and return values.**"
   ]
  },
  {
   "cell_type": "code",
   "execution_count": 6,
   "id": "895f923c-6aff-4ef3-aed4-15371e912004",
   "metadata": {},
   "outputs": [
    {
     "name": "stdin",
     "output_type": "stream",
     "text": [
      "Enter the first number:  10\n",
      "Enter the second number:  20\n"
     ]
    },
    {
     "name": "stdout",
     "output_type": "stream",
     "text": [
      "The sum is: 30\n"
     ]
    }
   ],
   "source": [
    "# Define a function to add two numbers\n",
    "def add_numbers(num1, num2):\n",
    "    return num1 + num2\n",
    "\n",
    "# Ask the user for two numbers\n",
    "number1 = int(input(\"Enter the first number: \"))\n",
    "number2 = int(input(\"Enter the second number: \"))\n",
    "\n",
    "# Call the function to add the numbers and print the result\n",
    "sum_result = add_numbers(number1, number2)\n",
    "print(\"The sum is:\", sum_result)\n"
   ]
  },
  {
   "cell_type": "markdown",
   "id": "e365b258-5711-485c-a634-c0a8b9e09608",
   "metadata": {},
   "source": [
    "**1. Maximum of Two Numbers\n",
    "Write a function that takes two numbers as input and returns the larger of the two.**"
   ]
  },
  {
   "cell_type": "code",
   "execution_count": 7,
   "id": "44d0c388-e7c0-41c5-bd5b-5d7adb8f1b02",
   "metadata": {},
   "outputs": [
    {
     "name": "stdin",
     "output_type": "stream",
     "text": [
      "Enter the first number:  44\n",
      "Enter the second number:  56\n"
     ]
    },
    {
     "name": "stdout",
     "output_type": "stream",
     "text": [
      "The larger number is: 56\n"
     ]
    }
   ],
   "source": [
    "# Define a function to return the maximum of two numbers\n",
    "def find_max(num1, num2):\n",
    "    if num1 > num2:\n",
    "        return num1\n",
    "    else:\n",
    "        return num2\n",
    "\n",
    "# Ask the user for two numbers\n",
    "number1 = int(input(\"Enter the first number: \"))\n",
    "number2 = int(input(\"Enter the second number: \"))\n",
    "\n",
    "# Call the function and print the result\n",
    "max_number = find_max(number1, number2)\n",
    "print(\"The larger number is:\", max_number)\n"
   ]
  },
  {
   "cell_type": "markdown",
   "id": "0a93de8b-a2a7-4ff4-97f5-d21c19d515af",
   "metadata": {},
   "source": [
    "**1.**"
   ]
  },
  {
   "cell_type": "code",
   "execution_count": null,
   "id": "920260aa-95f4-4a45-aca0-0ea0d3921bb2",
   "metadata": {},
   "outputs": [],
   "source": [
    "\n",
    "\n",
    "\n",
    "\n",
    "\n",
    "\n",
    "\n",
    "\n",
    "\n",
    "\n",
    "\n"
   ]
  },
  {
   "cell_type": "code",
   "execution_count": 8,
   "id": "7fbdc994-f6b0-44e8-8463-ea6f936ca86f",
   "metadata": {},
   "outputs": [
    {
     "name": "stdin",
     "output_type": "stream",
     "text": [
      "Enter a number:  10\n"
     ]
    },
    {
     "name": "stdout",
     "output_type": "stream",
     "text": [
      "The number is even.\n"
     ]
    }
   ],
   "source": [
    "# Define a function to check if a number is even or odd\n",
    "def check_even_odd(number):\n",
    "    if number % 2 == 0:\n",
    "        print(\"The number is even.\")\n",
    "    else:\n",
    "        print(\"The number is odd.\")\n",
    "\n",
    "# Ask the user for a number\n",
    "num = int(input(\"Enter a number: \"))\n",
    "\n",
    "# Call the function to check if the number is even or odd\n",
    "check_even_odd(num)\n"
   ]
  },
  {
   "cell_type": "markdown",
   "id": "69a869b2-7c28-436f-b75e-554ed4230ff0",
   "metadata": {},
   "source": [
    "**2.**"
   ]
  },
  {
   "cell_type": "code",
   "execution_count": null,
   "id": "97cba58d-96a9-4d92-afdc-b99a7453adb1",
   "metadata": {},
   "outputs": [],
   "source": [
    "\n",
    "\n",
    "\n",
    "\n",
    "\n",
    "\n",
    "\n",
    "\n",
    "\n",
    "\n",
    "\n",
    "\n",
    "\n",
    "\n",
    "\n"
   ]
  },
  {
   "cell_type": "code",
   "execution_count": 9,
   "id": "2b415c93-d2bd-4610-9ed6-9b04ed2bca8b",
   "metadata": {},
   "outputs": [
    {
     "name": "stdin",
     "output_type": "stream",
     "text": [
      "Enter your age:  32\n"
     ]
    },
    {
     "name": "stdout",
     "output_type": "stream",
     "text": [
      "You are old enough to vote.\n"
     ]
    }
   ],
   "source": [
    "# Define a function to check voting eligibility\n",
    "def check_voting_eligibility(age):\n",
    "    if age >= 18:\n",
    "        print(\"You are old enough to vote.\")\n",
    "    else:\n",
    "        print(\"You are not old enough to vote.\")\n",
    "\n",
    "# Ask the user for their age\n",
    "user_age = int(input(\"Enter your age: \"))\n",
    "\n",
    "# Call the function to check if the user is old enough to vote\n",
    "check_voting_eligibility(user_age)\n"
   ]
  },
  {
   "cell_type": "markdown",
   "id": "d3e6cdd7-0224-4210-a81d-3f36f9c8e381",
   "metadata": {},
   "source": [
    "**3.**"
   ]
  },
  {
   "cell_type": "code",
   "execution_count": null,
   "id": "169fb026-cf8c-4df7-8863-77322ce99e08",
   "metadata": {},
   "outputs": [],
   "source": [
    "\n",
    "\n",
    "\n",
    "\n",
    "\n",
    "\n",
    "\n",
    "\n",
    "\n",
    "\n",
    "\n",
    "\n"
   ]
  },
  {
   "cell_type": "code",
   "execution_count": 10,
   "id": "c90ef1b6-f1c5-41f8-bf6a-98005ca51a9a",
   "metadata": {},
   "outputs": [
    {
     "name": "stdin",
     "output_type": "stream",
     "text": [
      "Enter your exam score:  88\n"
     ]
    },
    {
     "name": "stdout",
     "output_type": "stream",
     "text": [
      "You passed the exam!\n"
     ]
    }
   ],
   "source": [
    "# Ask the user for their exam score\n",
    "score = int(input(\"Enter your exam score: \"))\n",
    "\n",
    "# Check if the score is a pass or fail\n",
    "if score >= 50:\n",
    "    print(\"You passed the exam!\")\n",
    "else:\n",
    "    print(\"You failed the exam.\")\n"
   ]
  },
  {
   "cell_type": "code",
   "execution_count": null,
   "id": "8d7b808f-fead-44fc-a526-c3e2b1119a4d",
   "metadata": {},
   "outputs": [],
   "source": []
  }
 ],
 "metadata": {
  "kernelspec": {
   "display_name": "Python 3 (ipykernel)",
   "language": "python",
   "name": "python3"
  },
  "language_info": {
   "codemirror_mode": {
    "name": "ipython",
    "version": 3
   },
   "file_extension": ".py",
   "mimetype": "text/x-python",
   "name": "python",
   "nbconvert_exporter": "python",
   "pygments_lexer": "ipython3",
   "version": "3.9.7"
  }
 },
 "nbformat": 4,
 "nbformat_minor": 5
}
